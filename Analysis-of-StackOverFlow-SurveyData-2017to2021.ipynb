{
 "cells": [
  {
   "cell_type": "markdown",
   "id": "987ade9b",
   "metadata": {},
   "source": [
    "This jupyter notebook contains the data analysis code used for my [medium.com blogpost](https://medium.com/@renju.s.mathew/the-stackoverflow-yearly-survey-a-treasure-trove-of-insight-938aa4ac46b3)."
   ]
  },
  {
   "cell_type": "code",
   "execution_count": null,
   "id": "a93cc3ec",
   "metadata": {},
   "outputs": [],
   "source": []
  },
  {
   "cell_type": "markdown",
   "id": "87a8c3a9",
   "metadata": {},
   "source": [
    "This project follows the **CRISP-DM** (Cross-industry standard process for data mining) Process. The following steps will be described in the relevant parts of the notebook:\n",
    "\n",
    "**1. Business Understanding**: We are analysing yearly StackOverFlow survey data to identify trends of interest to developers.\n",
    "\n",
    "**2. Data Understanding**: Trends in the survey data related to Gender, Race, and Popular Programming Languages are analysed. \n",
    "The labelling of these varies from year to year so these categorical variables need to be handled carefully.\n",
    "\n",
    "**3. Data Preparation**: Data preparation steps are outlined in the notebook.\n",
    "\n",
    "**4. Modelling**: No machine learning was performed. Visualisations for the interesting trends were saved as .png files.\n",
    "\n",
    "**5. Evaluation & 6. Deployment**: This is done in the [medium.com](https://medium.com/@renju.s.mathew/938aa4ac46b3) article."
   ]
  },
  {
   "cell_type": "code",
   "execution_count": null,
   "id": "25ee96d3",
   "metadata": {},
   "outputs": [],
   "source": []
  },
  {
   "cell_type": "markdown",
   "id": "c7edf6c2",
   "metadata": {},
   "source": [
    "\n",
    "\n",
    "<b>Contents of notebook</b>\n",
    "\n",
    "Steps of the data science process:\n",
    "\n",
    "- [Gather](#Gather)\n",
    "\n",
    "- [Assess](#Assess)\n",
    "\n",
    "- (Gender)\n",
    "  - [Clean](#CleanGender)\n",
    "  - [Analyse](#AnalyseGender)\n",
    "  - [Visualise](#VisualiseGender)\n",
    "   - Figure 2. The (lack of) change in gender representation between the years 2017– 2021.\n",
    "- (Race)\n",
    "  - [Clean](#CleanRace)\n",
    "  - [Analyse](#AnalyseRace)\n",
    "  - [Visualise](#VisualiseRace)\n",
    "   - Figure 3. The change in the representation of ethnicities between the years 2017– 2021.\n",
    "- (Popular Programming Languages)\n",
    "  - [Clean](#CleanLanguages)\n",
    "  - [Analyse](#AnalyseLanguages)\n",
    "  - [Visualise](#VisualiseLanguages)\n",
    "     - Figure 1. The most popular programming languages in the years 2017– 2021.\n",
    "     - Table 1. Top 10 most popular programming languages Figure 1; years 2017 and 2021."
   ]
  },
  {
   "cell_type": "code",
   "execution_count": null,
   "id": "cc6e8e29",
   "metadata": {},
   "outputs": [],
   "source": []
  },
  {
   "cell_type": "markdown",
   "id": "d54ddf5a",
   "metadata": {},
   "source": [
    "**CRISP-DM 1. Business Understanding**\n",
    "\n",
    "- We will analyse the survey data provided by [StackOverFlow](https://insights.stackoverflow.com/survey). \n",
    "- As survey data is collected each year, we can use the data to identify trends of interest to developers.\n",
    "- The data for the last five years (2017 – 2021) contains over 380,000 individual responses.\n",
    "- Trends in the survey data related to Gender, Race, and Popular Programming Languages are analysed, namely:\n",
    "    - 1. How has the gender distribution of the survey participants changed between 2017 – 2021?\n",
    "    - 2. How has the racial/ethnic distribution of the survey participants changed between 2017 – 2021?\n",
    "    - 3. Which programming languages have become more or less popular between 2017 – 2021?"
   ]
  },
  {
   "cell_type": "code",
   "execution_count": 1,
   "id": "a636cc39",
   "metadata": {},
   "outputs": [],
   "source": [
    "# Import necessary modules\n",
    "import numpy as np\n",
    "import pandas as pd\n",
    "import matplotlib.pyplot as plt\n",
    "# import seaborn as sns"
   ]
  },
  {
   "cell_type": "markdown",
   "id": "838ab951",
   "metadata": {},
   "source": [
    "## Functions"
   ]
  },
  {
   "cell_type": "code",
   "execution_count": 2,
   "id": "126172a8",
   "metadata": {},
   "outputs": [],
   "source": [
    "# A convenience function\n",
    "import inspect\n",
    "def retrieve_name(var):\n",
    "    '''Retrieves the name of a variable\n",
    "    \n",
    "    This is a modified version of the function provided by user scohe001 here:\n",
    "    https://stackoverflow.com/questions/18425225/getting-the-name-of-a-variable-as-a-string\n",
    "    '''\n",
    "    local_vars = inspect.currentframe().f_back.f_locals.items() # Variable in the local namespace seen by this frame\n",
    "    return [var_name for var_name, var_val in local_vars if var_val is var]"
   ]
  },
  {
   "cell_type": "code",
   "execution_count": 3,
   "id": "58a22e3a",
   "metadata": {},
   "outputs": [],
   "source": [
    "from collections import defaultdict\n",
    "def total_count(df, col1, col2, look_for):\n",
    "    '''\n",
    "    OUTPUT:\n",
    "    new_df - a dataframe of each \"look_for\" with the count of how often it appears \n",
    "    \n",
    "    INPUT:\n",
    "    df - pandas dataframe\n",
    "    col1 - column name to look through\n",
    "    col2 - column to count values from\n",
    "    look_for - a list of strings to search for in each row of df[col]\n",
    "\n",
    "    This is a modified function from that provided in udacity data science nanodegree\n",
    "    '''\n",
    "    new_df = defaultdict(int)\n",
    "\n",
    "    for val in look_for:\n",
    "        #loop through rows\n",
    "        for idx in range(df.shape[0]):\n",
    "            #if the val is in the row add 1\n",
    "            if val in df[col1][idx]:\n",
    "                new_df[val] += int(df[col2][idx])\n",
    "    new_df = pd.DataFrame(pd.Series(new_df)).reset_index()\n",
    "    new_df.columns = [col1, col2]\n",
    "    new_df.sort_values('count', ascending=False, inplace=True)\n",
    "    return new_df"
   ]
  },
  {
   "cell_type": "code",
   "execution_count": 4,
   "id": "34ec3621",
   "metadata": {},
   "outputs": [],
   "source": [
    "def get_possible_values(df, column_name, verbose = False):\n",
    "    '''Returns set of all the distinct values in a pandas column'''\n",
    "    all_values = df[column_name].values.tolist()\n",
    "    all_values = [x for x in all_values if str(x) != 'nan'] # Ensures nan values are handled correctly\n",
    "    list_of_lists = []\n",
    "    for a_value in all_values:\n",
    "        #list_of_lists.append([s.strip() for s in a_value.replace(',', ';').split(';')]) # Uncomment to treat semicolon as separator\n",
    "        list_of_lists.append([s.strip() for s in a_value.split(';')])\n",
    "    flat_list = [item for sublist in list_of_lists for item in sublist]\n",
    "    if verbose: print(set(flat_list))\n",
    "    return set(flat_list)"
   ]
  },
  {
   "cell_type": "code",
   "execution_count": 5,
   "id": "805548ce",
   "metadata": {},
   "outputs": [],
   "source": [
    "def clean_and_plot(df, column_name, possible_values, title='', plot=True):\n",
    "    '''\n",
    "    OUTPUT\n",
    "    props_study_df - a dataframe with the proportion of counts for values in the column_name column.\n",
    "    Displays a plot of the proportion of counts for values in the column_name column.\n",
    "        \n",
    "    INPUT \n",
    "    df - a dataframe holding the column of interest\n",
    "    possible_values - set of all the possible values in column of interest\n",
    "    \n",
    "    This is a modified function from that provided in udacity data science nanodegree\n",
    "    '''\n",
    "    \n",
    "    study = df[column_name].value_counts().reset_index()\n",
    "    study.rename(columns={'index': column_name, column_name: 'count'}, inplace=True)\n",
    "    study_df = total_count(study, column_name, 'count', possible_values)\n",
    "\n",
    "    study_df.set_index(column_name, inplace=True)\n",
    "    if plot:\n",
    "        (study_df/study_df.sum()).plot(kind='bar', legend=None, figsize = ((10,5)));\n",
    "        plt.title(title);\n",
    "        plt.show()\n",
    "    props_study_df = study_df/study_df.sum()\n",
    "    return props_study_df"
   ]
  },
  {
   "cell_type": "code",
   "execution_count": 6,
   "id": "39741d8f",
   "metadata": {},
   "outputs": [],
   "source": [
    "loc = \"G:\\\\My Drive\\\\udacity\\\\nd025-nanodegree-data-science\\\\PROJECTS_FOR_SUBMISSION\\\\Project1-Write_A_Data_Science_Blog_Post\\\\data\\\\\" # Insert location here"
   ]
  },
  {
   "cell_type": "markdown",
   "id": "7ed03d59",
   "metadata": {},
   "source": [
    "<a name=\"DataWrangling\"></a>"
   ]
  },
  {
   "cell_type": "markdown",
   "id": "8404f93b",
   "metadata": {},
   "source": [
    "<a name=\"Gather\"></a>\n",
    "## Gather data"
   ]
  },
  {
   "cell_type": "markdown",
   "id": "74418202",
   "metadata": {},
   "source": [
    "**CRISP-DM 2. Data Understanding** \n",
    "\n",
    "The csv files for 2017--2021 are downloaded from the https://insights.stackoverflow.com/survey\n",
    "\n",
    "For the data csv file for each year, there is a \"schema\" csv files that gives more description of each column in the data csv.\n",
    "\n",
    "As we are only analysing data related to Gender, Race, and Popular Programming Languages, we can discard most of the columns.\n",
    "\n",
    "We find from inspection of the column names reveals that the labelling of columns related to Gender, Race, and Popular Programming Languages vary from year to year, so we will have to look through the column names (and check the schema if required) to choose the correct columns.  \n",
    "\n",
    "All of these files are just small enough to be viewable on a spreadsheet program. I found it convenient to use Excel to open these files to visually assess them."
   ]
  },
  {
   "cell_type": "code",
   "execution_count": 7,
   "id": "0619fc5a",
   "metadata": {},
   "outputs": [],
   "source": [
    "# Load in data\n",
    "all_data = []\n",
    "all_schema = []\n",
    "for i in range(2017,2022,1):\n",
    "    all_data.append(pd.read_csv(loc+str(i)+'survey_results_public.csv', dtype=object))\n",
    "    all_schema.append(pd.read_csv(loc+str(i)+'survey_results_schema.csv'))"
   ]
  },
  {
   "cell_type": "code",
   "execution_count": 8,
   "id": "d515effe",
   "metadata": {},
   "outputs": [],
   "source": [
    "# Give data human readable aliases \n",
    "df2017 = all_data[0]; schema2017 = all_schema[0]\n",
    "df2018 = all_data[1]; schema2018 = all_schema[1]\n",
    "df2019 = all_data[2]; schema2019 = all_schema[2]\n",
    "df2020 = all_data[3]; schema2020 = all_schema[3]\n",
    "df2021 = all_data[4]; schema2021 = all_schema[4]"
   ]
  },
  {
   "cell_type": "markdown",
   "id": "4da04a52",
   "metadata": {},
   "source": [
    "<a name=\"Assess\"></a>\n",
    "## Assess data"
   ]
  },
  {
   "cell_type": "code",
   "execution_count": 9,
   "id": "1de5fc6e",
   "metadata": {},
   "outputs": [
    {
     "name": "stdout",
     "output_type": "stream",
     "text": [
      "df2017 (51392, 154)\n",
      "df2018 (98855, 129)\n",
      "df2019 (88883, 85)\n",
      "df2020 (64461, 61)\n",
      "df2021 (83439, 48)\n",
      "Total number of responses:  387030\n"
     ]
    }
   ],
   "source": [
    "# Print out the shapes of all the dataframes\n",
    "total_rows = 0\n",
    "for dataframe in all_data:\n",
    "    total_rows = total_rows + int(dataframe.shape[0])\n",
    "    print(retrieve_name(dataframe)[0], dataframe.shape)\n",
    "print(\"Total number of responses: \", total_rows)"
   ]
  },
  {
   "cell_type": "code",
   "execution_count": 10,
   "id": "7f793ac3",
   "metadata": {},
   "outputs": [],
   "source": [
    "# Let us have a quick look at the data..."
   ]
  },
  {
   "cell_type": "code",
   "execution_count": 11,
   "id": "64419ec3",
   "metadata": {},
   "outputs": [
    {
     "data": {
      "text/html": [
       "<div>\n",
       "<style scoped>\n",
       "    .dataframe tbody tr th:only-of-type {\n",
       "        vertical-align: middle;\n",
       "    }\n",
       "\n",
       "    .dataframe tbody tr th {\n",
       "        vertical-align: top;\n",
       "    }\n",
       "\n",
       "    .dataframe thead th {\n",
       "        text-align: right;\n",
       "    }\n",
       "</style>\n",
       "<table border=\"1\" class=\"dataframe\">\n",
       "  <thead>\n",
       "    <tr style=\"text-align: right;\">\n",
       "      <th></th>\n",
       "      <th>Respondent</th>\n",
       "      <th>Professional</th>\n",
       "      <th>ProgramHobby</th>\n",
       "      <th>Country</th>\n",
       "      <th>University</th>\n",
       "      <th>EmploymentStatus</th>\n",
       "      <th>FormalEducation</th>\n",
       "      <th>MajorUndergrad</th>\n",
       "      <th>HomeRemote</th>\n",
       "      <th>CompanySize</th>\n",
       "      <th>...</th>\n",
       "      <th>StackOverflowMakeMoney</th>\n",
       "      <th>Gender</th>\n",
       "      <th>HighestEducationParents</th>\n",
       "      <th>Race</th>\n",
       "      <th>SurveyLong</th>\n",
       "      <th>QuestionsInteresting</th>\n",
       "      <th>QuestionsConfusing</th>\n",
       "      <th>InterestedAnswers</th>\n",
       "      <th>Salary</th>\n",
       "      <th>ExpectedSalary</th>\n",
       "    </tr>\n",
       "  </thead>\n",
       "  <tbody>\n",
       "    <tr>\n",
       "      <th>0</th>\n",
       "      <td>1</td>\n",
       "      <td>Student</td>\n",
       "      <td>Yes, both</td>\n",
       "      <td>United States</td>\n",
       "      <td>No</td>\n",
       "      <td>Not employed, and not looking for work</td>\n",
       "      <td>Secondary school</td>\n",
       "      <td>NaN</td>\n",
       "      <td>NaN</td>\n",
       "      <td>NaN</td>\n",
       "      <td>...</td>\n",
       "      <td>Strongly disagree</td>\n",
       "      <td>Male</td>\n",
       "      <td>High school</td>\n",
       "      <td>White or of European descent</td>\n",
       "      <td>Strongly disagree</td>\n",
       "      <td>Strongly agree</td>\n",
       "      <td>Disagree</td>\n",
       "      <td>Strongly agree</td>\n",
       "      <td>NaN</td>\n",
       "      <td>NaN</td>\n",
       "    </tr>\n",
       "    <tr>\n",
       "      <th>1</th>\n",
       "      <td>2</td>\n",
       "      <td>Student</td>\n",
       "      <td>Yes, both</td>\n",
       "      <td>United Kingdom</td>\n",
       "      <td>Yes, full-time</td>\n",
       "      <td>Employed part-time</td>\n",
       "      <td>Some college/university study without earning ...</td>\n",
       "      <td>Computer science or software engineering</td>\n",
       "      <td>More than half, but not all, the time</td>\n",
       "      <td>20 to 99 employees</td>\n",
       "      <td>...</td>\n",
       "      <td>Strongly disagree</td>\n",
       "      <td>Male</td>\n",
       "      <td>A master's degree</td>\n",
       "      <td>White or of European descent</td>\n",
       "      <td>Somewhat agree</td>\n",
       "      <td>Somewhat agree</td>\n",
       "      <td>Disagree</td>\n",
       "      <td>Strongly agree</td>\n",
       "      <td>NaN</td>\n",
       "      <td>37500</td>\n",
       "    </tr>\n",
       "    <tr>\n",
       "      <th>2</th>\n",
       "      <td>3</td>\n",
       "      <td>Professional developer</td>\n",
       "      <td>Yes, both</td>\n",
       "      <td>United Kingdom</td>\n",
       "      <td>No</td>\n",
       "      <td>Employed full-time</td>\n",
       "      <td>Bachelor's degree</td>\n",
       "      <td>Computer science or software engineering</td>\n",
       "      <td>Less than half the time, but at least one day ...</td>\n",
       "      <td>10,000 or more employees</td>\n",
       "      <td>...</td>\n",
       "      <td>Disagree</td>\n",
       "      <td>Male</td>\n",
       "      <td>A professional degree</td>\n",
       "      <td>White or of European descent</td>\n",
       "      <td>Somewhat agree</td>\n",
       "      <td>Agree</td>\n",
       "      <td>Disagree</td>\n",
       "      <td>Agree</td>\n",
       "      <td>113750</td>\n",
       "      <td>NaN</td>\n",
       "    </tr>\n",
       "    <tr>\n",
       "      <th>3</th>\n",
       "      <td>4</td>\n",
       "      <td>Professional non-developer who sometimes write...</td>\n",
       "      <td>Yes, both</td>\n",
       "      <td>United States</td>\n",
       "      <td>No</td>\n",
       "      <td>Employed full-time</td>\n",
       "      <td>Doctoral degree</td>\n",
       "      <td>A non-computer-focused engineering discipline</td>\n",
       "      <td>Less than half the time, but at least one day ...</td>\n",
       "      <td>10,000 or more employees</td>\n",
       "      <td>...</td>\n",
       "      <td>Disagree</td>\n",
       "      <td>Male</td>\n",
       "      <td>A doctoral degree</td>\n",
       "      <td>White or of European descent</td>\n",
       "      <td>Agree</td>\n",
       "      <td>Agree</td>\n",
       "      <td>Somewhat agree</td>\n",
       "      <td>Strongly agree</td>\n",
       "      <td>NaN</td>\n",
       "      <td>NaN</td>\n",
       "    </tr>\n",
       "    <tr>\n",
       "      <th>4</th>\n",
       "      <td>5</td>\n",
       "      <td>Professional developer</td>\n",
       "      <td>Yes, I program as a hobby</td>\n",
       "      <td>Switzerland</td>\n",
       "      <td>No</td>\n",
       "      <td>Employed full-time</td>\n",
       "      <td>Master's degree</td>\n",
       "      <td>Computer science or software engineering</td>\n",
       "      <td>Never</td>\n",
       "      <td>10 to 19 employees</td>\n",
       "      <td>...</td>\n",
       "      <td>NaN</td>\n",
       "      <td>NaN</td>\n",
       "      <td>NaN</td>\n",
       "      <td>NaN</td>\n",
       "      <td>NaN</td>\n",
       "      <td>NaN</td>\n",
       "      <td>NaN</td>\n",
       "      <td>NaN</td>\n",
       "      <td>NaN</td>\n",
       "      <td>NaN</td>\n",
       "    </tr>\n",
       "  </tbody>\n",
       "</table>\n",
       "<p>5 rows × 154 columns</p>\n",
       "</div>"
      ],
      "text/plain": [
       "  Respondent                                       Professional  \\\n",
       "0          1                                            Student   \n",
       "1          2                                            Student   \n",
       "2          3                             Professional developer   \n",
       "3          4  Professional non-developer who sometimes write...   \n",
       "4          5                             Professional developer   \n",
       "\n",
       "                ProgramHobby         Country      University  \\\n",
       "0                  Yes, both   United States              No   \n",
       "1                  Yes, both  United Kingdom  Yes, full-time   \n",
       "2                  Yes, both  United Kingdom              No   \n",
       "3                  Yes, both   United States              No   \n",
       "4  Yes, I program as a hobby     Switzerland              No   \n",
       "\n",
       "                         EmploymentStatus  \\\n",
       "0  Not employed, and not looking for work   \n",
       "1                      Employed part-time   \n",
       "2                      Employed full-time   \n",
       "3                      Employed full-time   \n",
       "4                      Employed full-time   \n",
       "\n",
       "                                     FormalEducation  \\\n",
       "0                                   Secondary school   \n",
       "1  Some college/university study without earning ...   \n",
       "2                                  Bachelor's degree   \n",
       "3                                    Doctoral degree   \n",
       "4                                    Master's degree   \n",
       "\n",
       "                                  MajorUndergrad  \\\n",
       "0                                            NaN   \n",
       "1       Computer science or software engineering   \n",
       "2       Computer science or software engineering   \n",
       "3  A non-computer-focused engineering discipline   \n",
       "4       Computer science or software engineering   \n",
       "\n",
       "                                          HomeRemote  \\\n",
       "0                                                NaN   \n",
       "1              More than half, but not all, the time   \n",
       "2  Less than half the time, but at least one day ...   \n",
       "3  Less than half the time, but at least one day ...   \n",
       "4                                              Never   \n",
       "\n",
       "                CompanySize  ... StackOverflowMakeMoney Gender  \\\n",
       "0                       NaN  ...      Strongly disagree   Male   \n",
       "1        20 to 99 employees  ...      Strongly disagree   Male   \n",
       "2  10,000 or more employees  ...               Disagree   Male   \n",
       "3  10,000 or more employees  ...               Disagree   Male   \n",
       "4        10 to 19 employees  ...                    NaN    NaN   \n",
       "\n",
       "  HighestEducationParents                          Race         SurveyLong  \\\n",
       "0             High school  White or of European descent  Strongly disagree   \n",
       "1       A master's degree  White or of European descent     Somewhat agree   \n",
       "2   A professional degree  White or of European descent     Somewhat agree   \n",
       "3       A doctoral degree  White or of European descent              Agree   \n",
       "4                     NaN                           NaN                NaN   \n",
       "\n",
       "  QuestionsInteresting QuestionsConfusing InterestedAnswers  Salary  \\\n",
       "0       Strongly agree           Disagree    Strongly agree     NaN   \n",
       "1       Somewhat agree           Disagree    Strongly agree     NaN   \n",
       "2                Agree           Disagree             Agree  113750   \n",
       "3                Agree     Somewhat agree    Strongly agree     NaN   \n",
       "4                  NaN                NaN               NaN     NaN   \n",
       "\n",
       "  ExpectedSalary  \n",
       "0            NaN  \n",
       "1          37500  \n",
       "2            NaN  \n",
       "3            NaN  \n",
       "4            NaN  \n",
       "\n",
       "[5 rows x 154 columns]"
      ]
     },
     "execution_count": 11,
     "metadata": {},
     "output_type": "execute_result"
    }
   ],
   "source": [
    "df2017.head()  "
   ]
  },
  {
   "cell_type": "code",
   "execution_count": 12,
   "id": "0309562b",
   "metadata": {},
   "outputs": [
    {
     "data": {
      "text/html": [
       "<div>\n",
       "<style scoped>\n",
       "    .dataframe tbody tr th:only-of-type {\n",
       "        vertical-align: middle;\n",
       "    }\n",
       "\n",
       "    .dataframe tbody tr th {\n",
       "        vertical-align: top;\n",
       "    }\n",
       "\n",
       "    .dataframe thead th {\n",
       "        text-align: right;\n",
       "    }\n",
       "</style>\n",
       "<table border=\"1\" class=\"dataframe\">\n",
       "  <thead>\n",
       "    <tr style=\"text-align: right;\">\n",
       "      <th></th>\n",
       "      <th>Column</th>\n",
       "      <th>Question</th>\n",
       "    </tr>\n",
       "  </thead>\n",
       "  <tbody>\n",
       "    <tr>\n",
       "      <th>0</th>\n",
       "      <td>Respondent</td>\n",
       "      <td>Respondent ID number</td>\n",
       "    </tr>\n",
       "    <tr>\n",
       "      <th>1</th>\n",
       "      <td>Professional</td>\n",
       "      <td>Which of the following best describes you?</td>\n",
       "    </tr>\n",
       "    <tr>\n",
       "      <th>2</th>\n",
       "      <td>ProgramHobby</td>\n",
       "      <td>Do you program as a hobby or contribute to ope...</td>\n",
       "    </tr>\n",
       "    <tr>\n",
       "      <th>3</th>\n",
       "      <td>Country</td>\n",
       "      <td>In which country do you currently live?</td>\n",
       "    </tr>\n",
       "    <tr>\n",
       "      <th>4</th>\n",
       "      <td>University</td>\n",
       "      <td>Are you currently enrolled in a formal, degree...</td>\n",
       "    </tr>\n",
       "  </tbody>\n",
       "</table>\n",
       "</div>"
      ],
      "text/plain": [
       "         Column                                           Question\n",
       "0    Respondent                               Respondent ID number\n",
       "1  Professional         Which of the following best describes you?\n",
       "2  ProgramHobby  Do you program as a hobby or contribute to ope...\n",
       "3       Country            In which country do you currently live?\n",
       "4    University  Are you currently enrolled in a formal, degree..."
      ]
     },
     "execution_count": 12,
     "metadata": {},
     "output_type": "execute_result"
    }
   ],
   "source": [
    "schema2017.head()  "
   ]
  },
  {
   "cell_type": "code",
   "execution_count": 13,
   "id": "d4a9c5c2",
   "metadata": {},
   "outputs": [
    {
     "data": {
      "text/html": [
       "<div>\n",
       "<style scoped>\n",
       "    .dataframe tbody tr th:only-of-type {\n",
       "        vertical-align: middle;\n",
       "    }\n",
       "\n",
       "    .dataframe tbody tr th {\n",
       "        vertical-align: top;\n",
       "    }\n",
       "\n",
       "    .dataframe thead th {\n",
       "        text-align: right;\n",
       "    }\n",
       "</style>\n",
       "<table border=\"1\" class=\"dataframe\">\n",
       "  <thead>\n",
       "    <tr style=\"text-align: right;\">\n",
       "      <th></th>\n",
       "      <th>Respondent</th>\n",
       "      <th>Hobby</th>\n",
       "      <th>OpenSource</th>\n",
       "      <th>Country</th>\n",
       "      <th>Student</th>\n",
       "      <th>Employment</th>\n",
       "      <th>FormalEducation</th>\n",
       "      <th>UndergradMajor</th>\n",
       "      <th>CompanySize</th>\n",
       "      <th>DevType</th>\n",
       "      <th>...</th>\n",
       "      <th>Exercise</th>\n",
       "      <th>Gender</th>\n",
       "      <th>SexualOrientation</th>\n",
       "      <th>EducationParents</th>\n",
       "      <th>RaceEthnicity</th>\n",
       "      <th>Age</th>\n",
       "      <th>Dependents</th>\n",
       "      <th>MilitaryUS</th>\n",
       "      <th>SurveyTooLong</th>\n",
       "      <th>SurveyEasy</th>\n",
       "    </tr>\n",
       "  </thead>\n",
       "  <tbody>\n",
       "    <tr>\n",
       "      <th>0</th>\n",
       "      <td>1</td>\n",
       "      <td>Yes</td>\n",
       "      <td>No</td>\n",
       "      <td>Kenya</td>\n",
       "      <td>No</td>\n",
       "      <td>Employed part-time</td>\n",
       "      <td>Bachelor’s degree (BA, BS, B.Eng., etc.)</td>\n",
       "      <td>Mathematics or statistics</td>\n",
       "      <td>20 to 99 employees</td>\n",
       "      <td>Full-stack developer</td>\n",
       "      <td>...</td>\n",
       "      <td>3 - 4 times per week</td>\n",
       "      <td>Male</td>\n",
       "      <td>Straight or heterosexual</td>\n",
       "      <td>Bachelor’s degree (BA, BS, B.Eng., etc.)</td>\n",
       "      <td>Black or of African descent</td>\n",
       "      <td>25 - 34 years old</td>\n",
       "      <td>Yes</td>\n",
       "      <td>NaN</td>\n",
       "      <td>The survey was an appropriate length</td>\n",
       "      <td>Very easy</td>\n",
       "    </tr>\n",
       "    <tr>\n",
       "      <th>1</th>\n",
       "      <td>3</td>\n",
       "      <td>Yes</td>\n",
       "      <td>Yes</td>\n",
       "      <td>United Kingdom</td>\n",
       "      <td>No</td>\n",
       "      <td>Employed full-time</td>\n",
       "      <td>Bachelor’s degree (BA, BS, B.Eng., etc.)</td>\n",
       "      <td>A natural science (ex. biology, chemistry, phy...</td>\n",
       "      <td>10,000 or more employees</td>\n",
       "      <td>Database administrator;DevOps specialist;Full-...</td>\n",
       "      <td>...</td>\n",
       "      <td>Daily or almost every day</td>\n",
       "      <td>Male</td>\n",
       "      <td>Straight or heterosexual</td>\n",
       "      <td>Bachelor’s degree (BA, BS, B.Eng., etc.)</td>\n",
       "      <td>White or of European descent</td>\n",
       "      <td>35 - 44 years old</td>\n",
       "      <td>Yes</td>\n",
       "      <td>NaN</td>\n",
       "      <td>The survey was an appropriate length</td>\n",
       "      <td>Somewhat easy</td>\n",
       "    </tr>\n",
       "    <tr>\n",
       "      <th>2</th>\n",
       "      <td>4</td>\n",
       "      <td>Yes</td>\n",
       "      <td>Yes</td>\n",
       "      <td>United States</td>\n",
       "      <td>No</td>\n",
       "      <td>Employed full-time</td>\n",
       "      <td>Associate degree</td>\n",
       "      <td>Computer science, computer engineering, or sof...</td>\n",
       "      <td>20 to 99 employees</td>\n",
       "      <td>Engineering manager;Full-stack developer</td>\n",
       "      <td>...</td>\n",
       "      <td>NaN</td>\n",
       "      <td>NaN</td>\n",
       "      <td>NaN</td>\n",
       "      <td>NaN</td>\n",
       "      <td>NaN</td>\n",
       "      <td>NaN</td>\n",
       "      <td>NaN</td>\n",
       "      <td>NaN</td>\n",
       "      <td>NaN</td>\n",
       "      <td>NaN</td>\n",
       "    </tr>\n",
       "    <tr>\n",
       "      <th>3</th>\n",
       "      <td>5</td>\n",
       "      <td>No</td>\n",
       "      <td>No</td>\n",
       "      <td>United States</td>\n",
       "      <td>No</td>\n",
       "      <td>Employed full-time</td>\n",
       "      <td>Bachelor’s degree (BA, BS, B.Eng., etc.)</td>\n",
       "      <td>Computer science, computer engineering, or sof...</td>\n",
       "      <td>100 to 499 employees</td>\n",
       "      <td>Full-stack developer</td>\n",
       "      <td>...</td>\n",
       "      <td>I don't typically exercise</td>\n",
       "      <td>Male</td>\n",
       "      <td>Straight or heterosexual</td>\n",
       "      <td>Some college/university study without earning ...</td>\n",
       "      <td>White or of European descent</td>\n",
       "      <td>35 - 44 years old</td>\n",
       "      <td>No</td>\n",
       "      <td>No</td>\n",
       "      <td>The survey was an appropriate length</td>\n",
       "      <td>Somewhat easy</td>\n",
       "    </tr>\n",
       "    <tr>\n",
       "      <th>4</th>\n",
       "      <td>7</td>\n",
       "      <td>Yes</td>\n",
       "      <td>No</td>\n",
       "      <td>South Africa</td>\n",
       "      <td>Yes, part-time</td>\n",
       "      <td>Employed full-time</td>\n",
       "      <td>Some college/university study without earning ...</td>\n",
       "      <td>Computer science, computer engineering, or sof...</td>\n",
       "      <td>10,000 or more employees</td>\n",
       "      <td>Data or business analyst;Desktop or enterprise...</td>\n",
       "      <td>...</td>\n",
       "      <td>3 - 4 times per week</td>\n",
       "      <td>Male</td>\n",
       "      <td>Straight or heterosexual</td>\n",
       "      <td>Some college/university study without earning ...</td>\n",
       "      <td>White or of European descent</td>\n",
       "      <td>18 - 24 years old</td>\n",
       "      <td>Yes</td>\n",
       "      <td>NaN</td>\n",
       "      <td>The survey was an appropriate length</td>\n",
       "      <td>Somewhat easy</td>\n",
       "    </tr>\n",
       "  </tbody>\n",
       "</table>\n",
       "<p>5 rows × 129 columns</p>\n",
       "</div>"
      ],
      "text/plain": [
       "  Respondent Hobby OpenSource         Country         Student  \\\n",
       "0          1   Yes         No           Kenya              No   \n",
       "1          3   Yes        Yes  United Kingdom              No   \n",
       "2          4   Yes        Yes   United States              No   \n",
       "3          5    No         No   United States              No   \n",
       "4          7   Yes         No    South Africa  Yes, part-time   \n",
       "\n",
       "           Employment                                    FormalEducation  \\\n",
       "0  Employed part-time           Bachelor’s degree (BA, BS, B.Eng., etc.)   \n",
       "1  Employed full-time           Bachelor’s degree (BA, BS, B.Eng., etc.)   \n",
       "2  Employed full-time                                   Associate degree   \n",
       "3  Employed full-time           Bachelor’s degree (BA, BS, B.Eng., etc.)   \n",
       "4  Employed full-time  Some college/university study without earning ...   \n",
       "\n",
       "                                      UndergradMajor  \\\n",
       "0                          Mathematics or statistics   \n",
       "1  A natural science (ex. biology, chemistry, phy...   \n",
       "2  Computer science, computer engineering, or sof...   \n",
       "3  Computer science, computer engineering, or sof...   \n",
       "4  Computer science, computer engineering, or sof...   \n",
       "\n",
       "                CompanySize  \\\n",
       "0        20 to 99 employees   \n",
       "1  10,000 or more employees   \n",
       "2        20 to 99 employees   \n",
       "3      100 to 499 employees   \n",
       "4  10,000 or more employees   \n",
       "\n",
       "                                             DevType  ...  \\\n",
       "0                               Full-stack developer  ...   \n",
       "1  Database administrator;DevOps specialist;Full-...  ...   \n",
       "2           Engineering manager;Full-stack developer  ...   \n",
       "3                               Full-stack developer  ...   \n",
       "4  Data or business analyst;Desktop or enterprise...  ...   \n",
       "\n",
       "                     Exercise Gender         SexualOrientation  \\\n",
       "0        3 - 4 times per week   Male  Straight or heterosexual   \n",
       "1   Daily or almost every day   Male  Straight or heterosexual   \n",
       "2                         NaN    NaN                       NaN   \n",
       "3  I don't typically exercise   Male  Straight or heterosexual   \n",
       "4        3 - 4 times per week   Male  Straight or heterosexual   \n",
       "\n",
       "                                    EducationParents  \\\n",
       "0           Bachelor’s degree (BA, BS, B.Eng., etc.)   \n",
       "1           Bachelor’s degree (BA, BS, B.Eng., etc.)   \n",
       "2                                                NaN   \n",
       "3  Some college/university study without earning ...   \n",
       "4  Some college/university study without earning ...   \n",
       "\n",
       "                  RaceEthnicity                Age Dependents MilitaryUS  \\\n",
       "0   Black or of African descent  25 - 34 years old        Yes        NaN   \n",
       "1  White or of European descent  35 - 44 years old        Yes        NaN   \n",
       "2                           NaN                NaN        NaN        NaN   \n",
       "3  White or of European descent  35 - 44 years old         No         No   \n",
       "4  White or of European descent  18 - 24 years old        Yes        NaN   \n",
       "\n",
       "                          SurveyTooLong     SurveyEasy  \n",
       "0  The survey was an appropriate length      Very easy  \n",
       "1  The survey was an appropriate length  Somewhat easy  \n",
       "2                                   NaN            NaN  \n",
       "3  The survey was an appropriate length  Somewhat easy  \n",
       "4  The survey was an appropriate length  Somewhat easy  \n",
       "\n",
       "[5 rows x 129 columns]"
      ]
     },
     "execution_count": 13,
     "metadata": {},
     "output_type": "execute_result"
    }
   ],
   "source": [
    "df2018.head()  "
   ]
  },
  {
   "cell_type": "code",
   "execution_count": 14,
   "id": "a2676938",
   "metadata": {},
   "outputs": [
    {
     "data": {
      "text/html": [
       "<div>\n",
       "<style scoped>\n",
       "    .dataframe tbody tr th:only-of-type {\n",
       "        vertical-align: middle;\n",
       "    }\n",
       "\n",
       "    .dataframe tbody tr th {\n",
       "        vertical-align: top;\n",
       "    }\n",
       "\n",
       "    .dataframe thead th {\n",
       "        text-align: right;\n",
       "    }\n",
       "</style>\n",
       "<table border=\"1\" class=\"dataframe\">\n",
       "  <thead>\n",
       "    <tr style=\"text-align: right;\">\n",
       "      <th></th>\n",
       "      <th>Column</th>\n",
       "      <th>QuestionText</th>\n",
       "    </tr>\n",
       "  </thead>\n",
       "  <tbody>\n",
       "    <tr>\n",
       "      <th>0</th>\n",
       "      <td>Respondent</td>\n",
       "      <td>Randomized respondent ID number (not in order ...</td>\n",
       "    </tr>\n",
       "    <tr>\n",
       "      <th>1</th>\n",
       "      <td>Hobby</td>\n",
       "      <td>Do you code as a hobby?</td>\n",
       "    </tr>\n",
       "    <tr>\n",
       "      <th>2</th>\n",
       "      <td>OpenSource</td>\n",
       "      <td>Do you contribute to open source projects?</td>\n",
       "    </tr>\n",
       "    <tr>\n",
       "      <th>3</th>\n",
       "      <td>Country</td>\n",
       "      <td>In which country do you currently reside?</td>\n",
       "    </tr>\n",
       "    <tr>\n",
       "      <th>4</th>\n",
       "      <td>Student</td>\n",
       "      <td>Are you currently enrolled in a formal, degree...</td>\n",
       "    </tr>\n",
       "  </tbody>\n",
       "</table>\n",
       "</div>"
      ],
      "text/plain": [
       "       Column                                       QuestionText\n",
       "0  Respondent  Randomized respondent ID number (not in order ...\n",
       "1       Hobby                            Do you code as a hobby?\n",
       "2  OpenSource         Do you contribute to open source projects?\n",
       "3     Country          In which country do you currently reside?\n",
       "4     Student  Are you currently enrolled in a formal, degree..."
      ]
     },
     "execution_count": 14,
     "metadata": {},
     "output_type": "execute_result"
    }
   ],
   "source": [
    "schema2018.head()  "
   ]
  },
  {
   "cell_type": "code",
   "execution_count": 15,
   "id": "7e3c5d73",
   "metadata": {},
   "outputs": [
    {
     "data": {
      "text/html": [
       "<div>\n",
       "<style scoped>\n",
       "    .dataframe tbody tr th:only-of-type {\n",
       "        vertical-align: middle;\n",
       "    }\n",
       "\n",
       "    .dataframe tbody tr th {\n",
       "        vertical-align: top;\n",
       "    }\n",
       "\n",
       "    .dataframe thead th {\n",
       "        text-align: right;\n",
       "    }\n",
       "</style>\n",
       "<table border=\"1\" class=\"dataframe\">\n",
       "  <thead>\n",
       "    <tr style=\"text-align: right;\">\n",
       "      <th></th>\n",
       "      <th>Respondent</th>\n",
       "      <th>MainBranch</th>\n",
       "      <th>Hobbyist</th>\n",
       "      <th>OpenSourcer</th>\n",
       "      <th>OpenSource</th>\n",
       "      <th>Employment</th>\n",
       "      <th>Country</th>\n",
       "      <th>Student</th>\n",
       "      <th>EdLevel</th>\n",
       "      <th>UndergradMajor</th>\n",
       "      <th>...</th>\n",
       "      <th>WelcomeChange</th>\n",
       "      <th>SONewContent</th>\n",
       "      <th>Age</th>\n",
       "      <th>Gender</th>\n",
       "      <th>Trans</th>\n",
       "      <th>Sexuality</th>\n",
       "      <th>Ethnicity</th>\n",
       "      <th>Dependents</th>\n",
       "      <th>SurveyLength</th>\n",
       "      <th>SurveyEase</th>\n",
       "    </tr>\n",
       "  </thead>\n",
       "  <tbody>\n",
       "    <tr>\n",
       "      <th>0</th>\n",
       "      <td>1</td>\n",
       "      <td>I am a student who is learning to code</td>\n",
       "      <td>Yes</td>\n",
       "      <td>Never</td>\n",
       "      <td>The quality of OSS and closed source software ...</td>\n",
       "      <td>Not employed, and not looking for work</td>\n",
       "      <td>United Kingdom</td>\n",
       "      <td>No</td>\n",
       "      <td>Primary/elementary school</td>\n",
       "      <td>NaN</td>\n",
       "      <td>...</td>\n",
       "      <td>Just as welcome now as I felt last year</td>\n",
       "      <td>Tech articles written by other developers;Indu...</td>\n",
       "      <td>14</td>\n",
       "      <td>Man</td>\n",
       "      <td>No</td>\n",
       "      <td>Straight / Heterosexual</td>\n",
       "      <td>NaN</td>\n",
       "      <td>No</td>\n",
       "      <td>Appropriate in length</td>\n",
       "      <td>Neither easy nor difficult</td>\n",
       "    </tr>\n",
       "    <tr>\n",
       "      <th>1</th>\n",
       "      <td>2</td>\n",
       "      <td>I am a student who is learning to code</td>\n",
       "      <td>No</td>\n",
       "      <td>Less than once per year</td>\n",
       "      <td>The quality of OSS and closed source software ...</td>\n",
       "      <td>Not employed, but looking for work</td>\n",
       "      <td>Bosnia and Herzegovina</td>\n",
       "      <td>Yes, full-time</td>\n",
       "      <td>Secondary school (e.g. American high school, G...</td>\n",
       "      <td>NaN</td>\n",
       "      <td>...</td>\n",
       "      <td>Just as welcome now as I felt last year</td>\n",
       "      <td>Tech articles written by other developers;Indu...</td>\n",
       "      <td>19</td>\n",
       "      <td>Man</td>\n",
       "      <td>No</td>\n",
       "      <td>Straight / Heterosexual</td>\n",
       "      <td>NaN</td>\n",
       "      <td>No</td>\n",
       "      <td>Appropriate in length</td>\n",
       "      <td>Neither easy nor difficult</td>\n",
       "    </tr>\n",
       "    <tr>\n",
       "      <th>2</th>\n",
       "      <td>3</td>\n",
       "      <td>I am not primarily a developer, but I write co...</td>\n",
       "      <td>Yes</td>\n",
       "      <td>Never</td>\n",
       "      <td>The quality of OSS and closed source software ...</td>\n",
       "      <td>Employed full-time</td>\n",
       "      <td>Thailand</td>\n",
       "      <td>No</td>\n",
       "      <td>Bachelor’s degree (BA, BS, B.Eng., etc.)</td>\n",
       "      <td>Web development or web design</td>\n",
       "      <td>...</td>\n",
       "      <td>Just as welcome now as I felt last year</td>\n",
       "      <td>Tech meetups or events in your area;Courses on...</td>\n",
       "      <td>28</td>\n",
       "      <td>Man</td>\n",
       "      <td>No</td>\n",
       "      <td>Straight / Heterosexual</td>\n",
       "      <td>NaN</td>\n",
       "      <td>Yes</td>\n",
       "      <td>Appropriate in length</td>\n",
       "      <td>Neither easy nor difficult</td>\n",
       "    </tr>\n",
       "    <tr>\n",
       "      <th>3</th>\n",
       "      <td>4</td>\n",
       "      <td>I am a developer by profession</td>\n",
       "      <td>No</td>\n",
       "      <td>Never</td>\n",
       "      <td>The quality of OSS and closed source software ...</td>\n",
       "      <td>Employed full-time</td>\n",
       "      <td>United States</td>\n",
       "      <td>No</td>\n",
       "      <td>Bachelor’s degree (BA, BS, B.Eng., etc.)</td>\n",
       "      <td>Computer science, computer engineering, or sof...</td>\n",
       "      <td>...</td>\n",
       "      <td>Just as welcome now as I felt last year</td>\n",
       "      <td>Tech articles written by other developers;Indu...</td>\n",
       "      <td>22</td>\n",
       "      <td>Man</td>\n",
       "      <td>No</td>\n",
       "      <td>Straight / Heterosexual</td>\n",
       "      <td>White or of European descent</td>\n",
       "      <td>No</td>\n",
       "      <td>Appropriate in length</td>\n",
       "      <td>Easy</td>\n",
       "    </tr>\n",
       "    <tr>\n",
       "      <th>4</th>\n",
       "      <td>5</td>\n",
       "      <td>I am a developer by profession</td>\n",
       "      <td>Yes</td>\n",
       "      <td>Once a month or more often</td>\n",
       "      <td>OSS is, on average, of HIGHER quality than pro...</td>\n",
       "      <td>Employed full-time</td>\n",
       "      <td>Ukraine</td>\n",
       "      <td>No</td>\n",
       "      <td>Bachelor’s degree (BA, BS, B.Eng., etc.)</td>\n",
       "      <td>Computer science, computer engineering, or sof...</td>\n",
       "      <td>...</td>\n",
       "      <td>Just as welcome now as I felt last year</td>\n",
       "      <td>Tech meetups or events in your area;Courses on...</td>\n",
       "      <td>30</td>\n",
       "      <td>Man</td>\n",
       "      <td>No</td>\n",
       "      <td>Straight / Heterosexual</td>\n",
       "      <td>White or of European descent;Multiracial</td>\n",
       "      <td>No</td>\n",
       "      <td>Appropriate in length</td>\n",
       "      <td>Easy</td>\n",
       "    </tr>\n",
       "  </tbody>\n",
       "</table>\n",
       "<p>5 rows × 85 columns</p>\n",
       "</div>"
      ],
      "text/plain": [
       "  Respondent                                         MainBranch Hobbyist  \\\n",
       "0          1             I am a student who is learning to code      Yes   \n",
       "1          2             I am a student who is learning to code       No   \n",
       "2          3  I am not primarily a developer, but I write co...      Yes   \n",
       "3          4                     I am a developer by profession       No   \n",
       "4          5                     I am a developer by profession      Yes   \n",
       "\n",
       "                  OpenSourcer  \\\n",
       "0                       Never   \n",
       "1     Less than once per year   \n",
       "2                       Never   \n",
       "3                       Never   \n",
       "4  Once a month or more often   \n",
       "\n",
       "                                          OpenSource  \\\n",
       "0  The quality of OSS and closed source software ...   \n",
       "1  The quality of OSS and closed source software ...   \n",
       "2  The quality of OSS and closed source software ...   \n",
       "3  The quality of OSS and closed source software ...   \n",
       "4  OSS is, on average, of HIGHER quality than pro...   \n",
       "\n",
       "                               Employment                 Country  \\\n",
       "0  Not employed, and not looking for work          United Kingdom   \n",
       "1      Not employed, but looking for work  Bosnia and Herzegovina   \n",
       "2                      Employed full-time                Thailand   \n",
       "3                      Employed full-time           United States   \n",
       "4                      Employed full-time                 Ukraine   \n",
       "\n",
       "          Student                                            EdLevel  \\\n",
       "0              No                          Primary/elementary school   \n",
       "1  Yes, full-time  Secondary school (e.g. American high school, G...   \n",
       "2              No           Bachelor’s degree (BA, BS, B.Eng., etc.)   \n",
       "3              No           Bachelor’s degree (BA, BS, B.Eng., etc.)   \n",
       "4              No           Bachelor’s degree (BA, BS, B.Eng., etc.)   \n",
       "\n",
       "                                      UndergradMajor  ...  \\\n",
       "0                                                NaN  ...   \n",
       "1                                                NaN  ...   \n",
       "2                      Web development or web design  ...   \n",
       "3  Computer science, computer engineering, or sof...  ...   \n",
       "4  Computer science, computer engineering, or sof...  ...   \n",
       "\n",
       "                             WelcomeChange  \\\n",
       "0  Just as welcome now as I felt last year   \n",
       "1  Just as welcome now as I felt last year   \n",
       "2  Just as welcome now as I felt last year   \n",
       "3  Just as welcome now as I felt last year   \n",
       "4  Just as welcome now as I felt last year   \n",
       "\n",
       "                                        SONewContent Age Gender Trans  \\\n",
       "0  Tech articles written by other developers;Indu...  14    Man    No   \n",
       "1  Tech articles written by other developers;Indu...  19    Man    No   \n",
       "2  Tech meetups or events in your area;Courses on...  28    Man    No   \n",
       "3  Tech articles written by other developers;Indu...  22    Man    No   \n",
       "4  Tech meetups or events in your area;Courses on...  30    Man    No   \n",
       "\n",
       "                 Sexuality                                 Ethnicity  \\\n",
       "0  Straight / Heterosexual                                       NaN   \n",
       "1  Straight / Heterosexual                                       NaN   \n",
       "2  Straight / Heterosexual                                       NaN   \n",
       "3  Straight / Heterosexual              White or of European descent   \n",
       "4  Straight / Heterosexual  White or of European descent;Multiracial   \n",
       "\n",
       "  Dependents           SurveyLength                  SurveyEase  \n",
       "0         No  Appropriate in length  Neither easy nor difficult  \n",
       "1         No  Appropriate in length  Neither easy nor difficult  \n",
       "2        Yes  Appropriate in length  Neither easy nor difficult  \n",
       "3         No  Appropriate in length                        Easy  \n",
       "4         No  Appropriate in length                        Easy  \n",
       "\n",
       "[5 rows x 85 columns]"
      ]
     },
     "execution_count": 15,
     "metadata": {},
     "output_type": "execute_result"
    }
   ],
   "source": [
    "df2019.head()  "
   ]
  },
  {
   "cell_type": "code",
   "execution_count": 16,
   "id": "99dff25a",
   "metadata": {},
   "outputs": [
    {
     "data": {
      "text/html": [
       "<div>\n",
       "<style scoped>\n",
       "    .dataframe tbody tr th:only-of-type {\n",
       "        vertical-align: middle;\n",
       "    }\n",
       "\n",
       "    .dataframe tbody tr th {\n",
       "        vertical-align: top;\n",
       "    }\n",
       "\n",
       "    .dataframe thead th {\n",
       "        text-align: right;\n",
       "    }\n",
       "</style>\n",
       "<table border=\"1\" class=\"dataframe\">\n",
       "  <thead>\n",
       "    <tr style=\"text-align: right;\">\n",
       "      <th></th>\n",
       "      <th>Column</th>\n",
       "      <th>QuestionText</th>\n",
       "    </tr>\n",
       "  </thead>\n",
       "  <tbody>\n",
       "    <tr>\n",
       "      <th>0</th>\n",
       "      <td>Respondent</td>\n",
       "      <td>Randomized respondent ID number (not in order ...</td>\n",
       "    </tr>\n",
       "    <tr>\n",
       "      <th>1</th>\n",
       "      <td>MainBranch</td>\n",
       "      <td>Which of the following options best describes ...</td>\n",
       "    </tr>\n",
       "    <tr>\n",
       "      <th>2</th>\n",
       "      <td>Hobbyist</td>\n",
       "      <td>Do you code as a hobby?</td>\n",
       "    </tr>\n",
       "    <tr>\n",
       "      <th>3</th>\n",
       "      <td>OpenSourcer</td>\n",
       "      <td>How often do you contribute to open source?</td>\n",
       "    </tr>\n",
       "    <tr>\n",
       "      <th>4</th>\n",
       "      <td>OpenSource</td>\n",
       "      <td>How do you feel about the quality of open sour...</td>\n",
       "    </tr>\n",
       "  </tbody>\n",
       "</table>\n",
       "</div>"
      ],
      "text/plain": [
       "        Column                                       QuestionText\n",
       "0   Respondent  Randomized respondent ID number (not in order ...\n",
       "1   MainBranch  Which of the following options best describes ...\n",
       "2     Hobbyist                            Do you code as a hobby?\n",
       "3  OpenSourcer        How often do you contribute to open source?\n",
       "4   OpenSource  How do you feel about the quality of open sour..."
      ]
     },
     "execution_count": 16,
     "metadata": {},
     "output_type": "execute_result"
    }
   ],
   "source": [
    "schema2019.head()  "
   ]
  },
  {
   "cell_type": "code",
   "execution_count": 17,
   "id": "37b29db9",
   "metadata": {},
   "outputs": [
    {
     "data": {
      "text/html": [
       "<div>\n",
       "<style scoped>\n",
       "    .dataframe tbody tr th:only-of-type {\n",
       "        vertical-align: middle;\n",
       "    }\n",
       "\n",
       "    .dataframe tbody tr th {\n",
       "        vertical-align: top;\n",
       "    }\n",
       "\n",
       "    .dataframe thead th {\n",
       "        text-align: right;\n",
       "    }\n",
       "</style>\n",
       "<table border=\"1\" class=\"dataframe\">\n",
       "  <thead>\n",
       "    <tr style=\"text-align: right;\">\n",
       "      <th></th>\n",
       "      <th>Respondent</th>\n",
       "      <th>MainBranch</th>\n",
       "      <th>Hobbyist</th>\n",
       "      <th>Age</th>\n",
       "      <th>Age1stCode</th>\n",
       "      <th>CompFreq</th>\n",
       "      <th>CompTotal</th>\n",
       "      <th>ConvertedComp</th>\n",
       "      <th>Country</th>\n",
       "      <th>CurrencyDesc</th>\n",
       "      <th>...</th>\n",
       "      <th>SurveyEase</th>\n",
       "      <th>SurveyLength</th>\n",
       "      <th>Trans</th>\n",
       "      <th>UndergradMajor</th>\n",
       "      <th>WebframeDesireNextYear</th>\n",
       "      <th>WebframeWorkedWith</th>\n",
       "      <th>WelcomeChange</th>\n",
       "      <th>WorkWeekHrs</th>\n",
       "      <th>YearsCode</th>\n",
       "      <th>YearsCodePro</th>\n",
       "    </tr>\n",
       "  </thead>\n",
       "  <tbody>\n",
       "    <tr>\n",
       "      <th>0</th>\n",
       "      <td>1</td>\n",
       "      <td>I am a developer by profession</td>\n",
       "      <td>Yes</td>\n",
       "      <td>NaN</td>\n",
       "      <td>13</td>\n",
       "      <td>Monthly</td>\n",
       "      <td>NaN</td>\n",
       "      <td>NaN</td>\n",
       "      <td>Germany</td>\n",
       "      <td>European Euro</td>\n",
       "      <td>...</td>\n",
       "      <td>Neither easy nor difficult</td>\n",
       "      <td>Appropriate in length</td>\n",
       "      <td>No</td>\n",
       "      <td>Computer science, computer engineering, or sof...</td>\n",
       "      <td>ASP.NET Core</td>\n",
       "      <td>ASP.NET;ASP.NET Core</td>\n",
       "      <td>Just as welcome now as I felt last year</td>\n",
       "      <td>50</td>\n",
       "      <td>36</td>\n",
       "      <td>27</td>\n",
       "    </tr>\n",
       "    <tr>\n",
       "      <th>1</th>\n",
       "      <td>2</td>\n",
       "      <td>I am a developer by profession</td>\n",
       "      <td>No</td>\n",
       "      <td>NaN</td>\n",
       "      <td>19</td>\n",
       "      <td>NaN</td>\n",
       "      <td>NaN</td>\n",
       "      <td>NaN</td>\n",
       "      <td>United Kingdom</td>\n",
       "      <td>Pound sterling</td>\n",
       "      <td>...</td>\n",
       "      <td>NaN</td>\n",
       "      <td>NaN</td>\n",
       "      <td>NaN</td>\n",
       "      <td>Computer science, computer engineering, or sof...</td>\n",
       "      <td>NaN</td>\n",
       "      <td>NaN</td>\n",
       "      <td>Somewhat more welcome now than last year</td>\n",
       "      <td>NaN</td>\n",
       "      <td>7</td>\n",
       "      <td>4</td>\n",
       "    </tr>\n",
       "    <tr>\n",
       "      <th>2</th>\n",
       "      <td>3</td>\n",
       "      <td>I code primarily as a hobby</td>\n",
       "      <td>Yes</td>\n",
       "      <td>NaN</td>\n",
       "      <td>15</td>\n",
       "      <td>NaN</td>\n",
       "      <td>NaN</td>\n",
       "      <td>NaN</td>\n",
       "      <td>Russian Federation</td>\n",
       "      <td>NaN</td>\n",
       "      <td>...</td>\n",
       "      <td>Neither easy nor difficult</td>\n",
       "      <td>Appropriate in length</td>\n",
       "      <td>NaN</td>\n",
       "      <td>NaN</td>\n",
       "      <td>NaN</td>\n",
       "      <td>NaN</td>\n",
       "      <td>Somewhat more welcome now than last year</td>\n",
       "      <td>NaN</td>\n",
       "      <td>4</td>\n",
       "      <td>NaN</td>\n",
       "    </tr>\n",
       "    <tr>\n",
       "      <th>3</th>\n",
       "      <td>4</td>\n",
       "      <td>I am a developer by profession</td>\n",
       "      <td>Yes</td>\n",
       "      <td>25</td>\n",
       "      <td>18</td>\n",
       "      <td>NaN</td>\n",
       "      <td>NaN</td>\n",
       "      <td>NaN</td>\n",
       "      <td>Albania</td>\n",
       "      <td>Albanian lek</td>\n",
       "      <td>...</td>\n",
       "      <td>NaN</td>\n",
       "      <td>NaN</td>\n",
       "      <td>No</td>\n",
       "      <td>Computer science, computer engineering, or sof...</td>\n",
       "      <td>NaN</td>\n",
       "      <td>NaN</td>\n",
       "      <td>Somewhat less welcome now than last year</td>\n",
       "      <td>40</td>\n",
       "      <td>7</td>\n",
       "      <td>4</td>\n",
       "    </tr>\n",
       "    <tr>\n",
       "      <th>4</th>\n",
       "      <td>5</td>\n",
       "      <td>I used to be a developer by profession, but no...</td>\n",
       "      <td>Yes</td>\n",
       "      <td>31</td>\n",
       "      <td>16</td>\n",
       "      <td>NaN</td>\n",
       "      <td>NaN</td>\n",
       "      <td>NaN</td>\n",
       "      <td>United States</td>\n",
       "      <td>NaN</td>\n",
       "      <td>...</td>\n",
       "      <td>Easy</td>\n",
       "      <td>Too short</td>\n",
       "      <td>No</td>\n",
       "      <td>Computer science, computer engineering, or sof...</td>\n",
       "      <td>Django;Ruby on Rails</td>\n",
       "      <td>Ruby on Rails</td>\n",
       "      <td>Just as welcome now as I felt last year</td>\n",
       "      <td>NaN</td>\n",
       "      <td>15</td>\n",
       "      <td>8</td>\n",
       "    </tr>\n",
       "  </tbody>\n",
       "</table>\n",
       "<p>5 rows × 61 columns</p>\n",
       "</div>"
      ],
      "text/plain": [
       "  Respondent                                         MainBranch Hobbyist  Age  \\\n",
       "0          1                     I am a developer by profession      Yes  NaN   \n",
       "1          2                     I am a developer by profession       No  NaN   \n",
       "2          3                        I code primarily as a hobby      Yes  NaN   \n",
       "3          4                     I am a developer by profession      Yes   25   \n",
       "4          5  I used to be a developer by profession, but no...      Yes   31   \n",
       "\n",
       "  Age1stCode CompFreq CompTotal ConvertedComp             Country  \\\n",
       "0         13  Monthly       NaN           NaN             Germany   \n",
       "1         19      NaN       NaN           NaN      United Kingdom   \n",
       "2         15      NaN       NaN           NaN  Russian Federation   \n",
       "3         18      NaN       NaN           NaN             Albania   \n",
       "4         16      NaN       NaN           NaN       United States   \n",
       "\n",
       "     CurrencyDesc  ...                  SurveyEase           SurveyLength  \\\n",
       "0   European Euro  ...  Neither easy nor difficult  Appropriate in length   \n",
       "1  Pound sterling  ...                         NaN                    NaN   \n",
       "2             NaN  ...  Neither easy nor difficult  Appropriate in length   \n",
       "3    Albanian lek  ...                         NaN                    NaN   \n",
       "4             NaN  ...                        Easy              Too short   \n",
       "\n",
       "  Trans                                     UndergradMajor  \\\n",
       "0    No  Computer science, computer engineering, or sof...   \n",
       "1   NaN  Computer science, computer engineering, or sof...   \n",
       "2   NaN                                                NaN   \n",
       "3    No  Computer science, computer engineering, or sof...   \n",
       "4    No  Computer science, computer engineering, or sof...   \n",
       "\n",
       "  WebframeDesireNextYear    WebframeWorkedWith  \\\n",
       "0           ASP.NET Core  ASP.NET;ASP.NET Core   \n",
       "1                    NaN                   NaN   \n",
       "2                    NaN                   NaN   \n",
       "3                    NaN                   NaN   \n",
       "4   Django;Ruby on Rails         Ruby on Rails   \n",
       "\n",
       "                              WelcomeChange WorkWeekHrs YearsCode YearsCodePro  \n",
       "0   Just as welcome now as I felt last year          50        36           27  \n",
       "1  Somewhat more welcome now than last year         NaN         7            4  \n",
       "2  Somewhat more welcome now than last year         NaN         4          NaN  \n",
       "3  Somewhat less welcome now than last year          40         7            4  \n",
       "4   Just as welcome now as I felt last year         NaN        15            8  \n",
       "\n",
       "[5 rows x 61 columns]"
      ]
     },
     "execution_count": 17,
     "metadata": {},
     "output_type": "execute_result"
    }
   ],
   "source": [
    "df2020.head()  "
   ]
  },
  {
   "cell_type": "code",
   "execution_count": 18,
   "id": "e6343689",
   "metadata": {},
   "outputs": [
    {
     "data": {
      "text/html": [
       "<div>\n",
       "<style scoped>\n",
       "    .dataframe tbody tr th:only-of-type {\n",
       "        vertical-align: middle;\n",
       "    }\n",
       "\n",
       "    .dataframe tbody tr th {\n",
       "        vertical-align: top;\n",
       "    }\n",
       "\n",
       "    .dataframe thead th {\n",
       "        text-align: right;\n",
       "    }\n",
       "</style>\n",
       "<table border=\"1\" class=\"dataframe\">\n",
       "  <thead>\n",
       "    <tr style=\"text-align: right;\">\n",
       "      <th></th>\n",
       "      <th>Column</th>\n",
       "      <th>QuestionText</th>\n",
       "    </tr>\n",
       "  </thead>\n",
       "  <tbody>\n",
       "    <tr>\n",
       "      <th>0</th>\n",
       "      <td>Respondent</td>\n",
       "      <td>Randomized respondent ID number (not in order ...</td>\n",
       "    </tr>\n",
       "    <tr>\n",
       "      <th>1</th>\n",
       "      <td>MainBranch</td>\n",
       "      <td>Which of the following options best describes ...</td>\n",
       "    </tr>\n",
       "    <tr>\n",
       "      <th>2</th>\n",
       "      <td>Hobbyist</td>\n",
       "      <td>Do you code as a hobby?</td>\n",
       "    </tr>\n",
       "    <tr>\n",
       "      <th>3</th>\n",
       "      <td>Age</td>\n",
       "      <td>What is your age (in years)? If you prefer not...</td>\n",
       "    </tr>\n",
       "    <tr>\n",
       "      <th>4</th>\n",
       "      <td>Age1stCode</td>\n",
       "      <td>At what age did you write your first line of c...</td>\n",
       "    </tr>\n",
       "  </tbody>\n",
       "</table>\n",
       "</div>"
      ],
      "text/plain": [
       "       Column                                       QuestionText\n",
       "0  Respondent  Randomized respondent ID number (not in order ...\n",
       "1  MainBranch  Which of the following options best describes ...\n",
       "2    Hobbyist                            Do you code as a hobby?\n",
       "3         Age  What is your age (in years)? If you prefer not...\n",
       "4  Age1stCode  At what age did you write your first line of c..."
      ]
     },
     "execution_count": 18,
     "metadata": {},
     "output_type": "execute_result"
    }
   ],
   "source": [
    "schema2020.head() "
   ]
  },
  {
   "cell_type": "code",
   "execution_count": 19,
   "id": "d265ae6a",
   "metadata": {},
   "outputs": [
    {
     "data": {
      "text/html": [
       "<div>\n",
       "<style scoped>\n",
       "    .dataframe tbody tr th:only-of-type {\n",
       "        vertical-align: middle;\n",
       "    }\n",
       "\n",
       "    .dataframe tbody tr th {\n",
       "        vertical-align: top;\n",
       "    }\n",
       "\n",
       "    .dataframe thead th {\n",
       "        text-align: right;\n",
       "    }\n",
       "</style>\n",
       "<table border=\"1\" class=\"dataframe\">\n",
       "  <thead>\n",
       "    <tr style=\"text-align: right;\">\n",
       "      <th></th>\n",
       "      <th>ResponseId</th>\n",
       "      <th>MainBranch</th>\n",
       "      <th>Employment</th>\n",
       "      <th>Country</th>\n",
       "      <th>US_State</th>\n",
       "      <th>UK_Country</th>\n",
       "      <th>EdLevel</th>\n",
       "      <th>Age1stCode</th>\n",
       "      <th>LearnCode</th>\n",
       "      <th>YearsCode</th>\n",
       "      <th>...</th>\n",
       "      <th>Age</th>\n",
       "      <th>Gender</th>\n",
       "      <th>Trans</th>\n",
       "      <th>Sexuality</th>\n",
       "      <th>Ethnicity</th>\n",
       "      <th>Accessibility</th>\n",
       "      <th>MentalHealth</th>\n",
       "      <th>SurveyLength</th>\n",
       "      <th>SurveyEase</th>\n",
       "      <th>ConvertedCompYearly</th>\n",
       "    </tr>\n",
       "  </thead>\n",
       "  <tbody>\n",
       "    <tr>\n",
       "      <th>0</th>\n",
       "      <td>1</td>\n",
       "      <td>I am a developer by profession</td>\n",
       "      <td>Independent contractor, freelancer, or self-em...</td>\n",
       "      <td>Slovakia</td>\n",
       "      <td>NaN</td>\n",
       "      <td>NaN</td>\n",
       "      <td>Secondary school (e.g. American high school, G...</td>\n",
       "      <td>18 - 24 years</td>\n",
       "      <td>Coding Bootcamp;Other online resources (ex: vi...</td>\n",
       "      <td>NaN</td>\n",
       "      <td>...</td>\n",
       "      <td>25-34 years old</td>\n",
       "      <td>Man</td>\n",
       "      <td>No</td>\n",
       "      <td>Straight / Heterosexual</td>\n",
       "      <td>White or of European descent</td>\n",
       "      <td>None of the above</td>\n",
       "      <td>None of the above</td>\n",
       "      <td>Appropriate in length</td>\n",
       "      <td>Easy</td>\n",
       "      <td>62268</td>\n",
       "    </tr>\n",
       "    <tr>\n",
       "      <th>1</th>\n",
       "      <td>2</td>\n",
       "      <td>I am a student who is learning to code</td>\n",
       "      <td>Student, full-time</td>\n",
       "      <td>Netherlands</td>\n",
       "      <td>NaN</td>\n",
       "      <td>NaN</td>\n",
       "      <td>Bachelor’s degree (B.A., B.S., B.Eng., etc.)</td>\n",
       "      <td>11 - 17 years</td>\n",
       "      <td>Other online resources (ex: videos, blogs, etc...</td>\n",
       "      <td>7</td>\n",
       "      <td>...</td>\n",
       "      <td>18-24 years old</td>\n",
       "      <td>Man</td>\n",
       "      <td>No</td>\n",
       "      <td>Straight / Heterosexual</td>\n",
       "      <td>White or of European descent</td>\n",
       "      <td>None of the above</td>\n",
       "      <td>None of the above</td>\n",
       "      <td>Appropriate in length</td>\n",
       "      <td>Easy</td>\n",
       "      <td>NaN</td>\n",
       "    </tr>\n",
       "    <tr>\n",
       "      <th>2</th>\n",
       "      <td>3</td>\n",
       "      <td>I am not primarily a developer, but I write co...</td>\n",
       "      <td>Student, full-time</td>\n",
       "      <td>Russian Federation</td>\n",
       "      <td>NaN</td>\n",
       "      <td>NaN</td>\n",
       "      <td>Bachelor’s degree (B.A., B.S., B.Eng., etc.)</td>\n",
       "      <td>11 - 17 years</td>\n",
       "      <td>Other online resources (ex: videos, blogs, etc...</td>\n",
       "      <td>NaN</td>\n",
       "      <td>...</td>\n",
       "      <td>18-24 years old</td>\n",
       "      <td>Man</td>\n",
       "      <td>No</td>\n",
       "      <td>Prefer not to say</td>\n",
       "      <td>Prefer not to say</td>\n",
       "      <td>None of the above</td>\n",
       "      <td>None of the above</td>\n",
       "      <td>Appropriate in length</td>\n",
       "      <td>Easy</td>\n",
       "      <td>NaN</td>\n",
       "    </tr>\n",
       "    <tr>\n",
       "      <th>3</th>\n",
       "      <td>4</td>\n",
       "      <td>I am a developer by profession</td>\n",
       "      <td>Employed full-time</td>\n",
       "      <td>Austria</td>\n",
       "      <td>NaN</td>\n",
       "      <td>NaN</td>\n",
       "      <td>Master’s degree (M.A., M.S., M.Eng., MBA, etc.)</td>\n",
       "      <td>11 - 17 years</td>\n",
       "      <td>NaN</td>\n",
       "      <td>NaN</td>\n",
       "      <td>...</td>\n",
       "      <td>35-44 years old</td>\n",
       "      <td>Man</td>\n",
       "      <td>No</td>\n",
       "      <td>Straight / Heterosexual</td>\n",
       "      <td>White or of European descent</td>\n",
       "      <td>I am deaf / hard of hearing</td>\n",
       "      <td>NaN</td>\n",
       "      <td>Appropriate in length</td>\n",
       "      <td>Neither easy nor difficult</td>\n",
       "      <td>NaN</td>\n",
       "    </tr>\n",
       "    <tr>\n",
       "      <th>4</th>\n",
       "      <td>5</td>\n",
       "      <td>I am a developer by profession</td>\n",
       "      <td>Independent contractor, freelancer, or self-em...</td>\n",
       "      <td>United Kingdom of Great Britain and Northern I...</td>\n",
       "      <td>NaN</td>\n",
       "      <td>England</td>\n",
       "      <td>Master’s degree (M.A., M.S., M.Eng., MBA, etc.)</td>\n",
       "      <td>5 - 10 years</td>\n",
       "      <td>Friend or family member</td>\n",
       "      <td>17</td>\n",
       "      <td>...</td>\n",
       "      <td>25-34 years old</td>\n",
       "      <td>Man</td>\n",
       "      <td>No</td>\n",
       "      <td>NaN</td>\n",
       "      <td>White or of European descent</td>\n",
       "      <td>None of the above</td>\n",
       "      <td>NaN</td>\n",
       "      <td>Appropriate in length</td>\n",
       "      <td>Easy</td>\n",
       "      <td>NaN</td>\n",
       "    </tr>\n",
       "  </tbody>\n",
       "</table>\n",
       "<p>5 rows × 48 columns</p>\n",
       "</div>"
      ],
      "text/plain": [
       "  ResponseId                                         MainBranch  \\\n",
       "0          1                     I am a developer by profession   \n",
       "1          2             I am a student who is learning to code   \n",
       "2          3  I am not primarily a developer, but I write co...   \n",
       "3          4                     I am a developer by profession   \n",
       "4          5                     I am a developer by profession   \n",
       "\n",
       "                                          Employment  \\\n",
       "0  Independent contractor, freelancer, or self-em...   \n",
       "1                                 Student, full-time   \n",
       "2                                 Student, full-time   \n",
       "3                                 Employed full-time   \n",
       "4  Independent contractor, freelancer, or self-em...   \n",
       "\n",
       "                                             Country US_State UK_Country  \\\n",
       "0                                           Slovakia      NaN        NaN   \n",
       "1                                        Netherlands      NaN        NaN   \n",
       "2                                 Russian Federation      NaN        NaN   \n",
       "3                                            Austria      NaN        NaN   \n",
       "4  United Kingdom of Great Britain and Northern I...      NaN    England   \n",
       "\n",
       "                                             EdLevel     Age1stCode  \\\n",
       "0  Secondary school (e.g. American high school, G...  18 - 24 years   \n",
       "1       Bachelor’s degree (B.A., B.S., B.Eng., etc.)  11 - 17 years   \n",
       "2       Bachelor’s degree (B.A., B.S., B.Eng., etc.)  11 - 17 years   \n",
       "3    Master’s degree (M.A., M.S., M.Eng., MBA, etc.)  11 - 17 years   \n",
       "4    Master’s degree (M.A., M.S., M.Eng., MBA, etc.)   5 - 10 years   \n",
       "\n",
       "                                           LearnCode YearsCode  ...  \\\n",
       "0  Coding Bootcamp;Other online resources (ex: vi...       NaN  ...   \n",
       "1  Other online resources (ex: videos, blogs, etc...         7  ...   \n",
       "2  Other online resources (ex: videos, blogs, etc...       NaN  ...   \n",
       "3                                                NaN       NaN  ...   \n",
       "4                            Friend or family member        17  ...   \n",
       "\n",
       "               Age Gender Trans                Sexuality  \\\n",
       "0  25-34 years old    Man    No  Straight / Heterosexual   \n",
       "1  18-24 years old    Man    No  Straight / Heterosexual   \n",
       "2  18-24 years old    Man    No        Prefer not to say   \n",
       "3  35-44 years old    Man    No  Straight / Heterosexual   \n",
       "4  25-34 years old    Man    No                      NaN   \n",
       "\n",
       "                      Ethnicity                Accessibility  \\\n",
       "0  White or of European descent            None of the above   \n",
       "1  White or of European descent            None of the above   \n",
       "2             Prefer not to say            None of the above   \n",
       "3  White or of European descent  I am deaf / hard of hearing   \n",
       "4  White or of European descent            None of the above   \n",
       "\n",
       "        MentalHealth           SurveyLength                  SurveyEase  \\\n",
       "0  None of the above  Appropriate in length                        Easy   \n",
       "1  None of the above  Appropriate in length                        Easy   \n",
       "2  None of the above  Appropriate in length                        Easy   \n",
       "3                NaN  Appropriate in length  Neither easy nor difficult   \n",
       "4                NaN  Appropriate in length                        Easy   \n",
       "\n",
       "  ConvertedCompYearly  \n",
       "0               62268  \n",
       "1                 NaN  \n",
       "2                 NaN  \n",
       "3                 NaN  \n",
       "4                 NaN  \n",
       "\n",
       "[5 rows x 48 columns]"
      ]
     },
     "execution_count": 19,
     "metadata": {},
     "output_type": "execute_result"
    }
   ],
   "source": [
    "df2021.head()  "
   ]
  },
  {
   "cell_type": "code",
   "execution_count": 20,
   "id": "0a0baa09",
   "metadata": {},
   "outputs": [
    {
     "data": {
      "text/html": [
       "<div>\n",
       "<style scoped>\n",
       "    .dataframe tbody tr th:only-of-type {\n",
       "        vertical-align: middle;\n",
       "    }\n",
       "\n",
       "    .dataframe tbody tr th {\n",
       "        vertical-align: top;\n",
       "    }\n",
       "\n",
       "    .dataframe thead th {\n",
       "        text-align: right;\n",
       "    }\n",
       "</style>\n",
       "<table border=\"1\" class=\"dataframe\">\n",
       "  <thead>\n",
       "    <tr style=\"text-align: right;\">\n",
       "      <th></th>\n",
       "      <th>qid</th>\n",
       "      <th>qname</th>\n",
       "      <th>question</th>\n",
       "      <th>force_resp</th>\n",
       "      <th>type</th>\n",
       "      <th>selector</th>\n",
       "    </tr>\n",
       "  </thead>\n",
       "  <tbody>\n",
       "    <tr>\n",
       "      <th>0</th>\n",
       "      <td>QID16</td>\n",
       "      <td>S0</td>\n",
       "      <td>&lt;div&gt;&lt;span style=\"font-size:19px;\"&gt;&lt;strong&gt;Hel...</td>\n",
       "      <td>False</td>\n",
       "      <td>DB</td>\n",
       "      <td>TB</td>\n",
       "    </tr>\n",
       "    <tr>\n",
       "      <th>1</th>\n",
       "      <td>QID12</td>\n",
       "      <td>MetaInfo</td>\n",
       "      <td>Browser Meta Info</td>\n",
       "      <td>False</td>\n",
       "      <td>Meta</td>\n",
       "      <td>Browser</td>\n",
       "    </tr>\n",
       "    <tr>\n",
       "      <th>2</th>\n",
       "      <td>QID1</td>\n",
       "      <td>S1</td>\n",
       "      <td>&lt;span style=\"font-size:22px; font-family: aria...</td>\n",
       "      <td>False</td>\n",
       "      <td>DB</td>\n",
       "      <td>TB</td>\n",
       "    </tr>\n",
       "    <tr>\n",
       "      <th>3</th>\n",
       "      <td>QID2</td>\n",
       "      <td>MainBranch</td>\n",
       "      <td>Which of the following options best describes ...</td>\n",
       "      <td>True</td>\n",
       "      <td>MC</td>\n",
       "      <td>SAVR</td>\n",
       "    </tr>\n",
       "    <tr>\n",
       "      <th>4</th>\n",
       "      <td>QID24</td>\n",
       "      <td>Employment</td>\n",
       "      <td>Which of the following best describes your cur...</td>\n",
       "      <td>False</td>\n",
       "      <td>MC</td>\n",
       "      <td>MAVR</td>\n",
       "    </tr>\n",
       "  </tbody>\n",
       "</table>\n",
       "</div>"
      ],
      "text/plain": [
       "     qid       qname                                           question  \\\n",
       "0  QID16          S0  <div><span style=\"font-size:19px;\"><strong>Hel...   \n",
       "1  QID12    MetaInfo                                  Browser Meta Info   \n",
       "2   QID1          S1  <span style=\"font-size:22px; font-family: aria...   \n",
       "3   QID2  MainBranch  Which of the following options best describes ...   \n",
       "4  QID24  Employment  Which of the following best describes your cur...   \n",
       "\n",
       "   force_resp  type selector  \n",
       "0       False    DB       TB  \n",
       "1       False  Meta  Browser  \n",
       "2       False    DB       TB  \n",
       "3        True    MC     SAVR  \n",
       "4       False    MC     MAVR  "
      ]
     },
     "execution_count": 20,
     "metadata": {},
     "output_type": "execute_result"
    }
   ],
   "source": [
    "schema2021.head() "
   ]
  },
  {
   "cell_type": "markdown",
   "id": "e29dbe11",
   "metadata": {},
   "source": []
  },
  {
   "cell_type": "markdown",
   "id": "990c2cef",
   "metadata": {},
   "source": [
    "**CRISP-DM 3. Data Preparation** \n",
    "\n",
    "As we will not be performing any machine learning, nor creating any inferential statistics (i.e., there will be no modelling which would be CRISP-DM 4.), we shall use the function in the next cell to drop the rows containing null values.\n",
    "\n",
    "For Gender and Race, the possible values these can take changes each year so these categorical variables need to be handled carefully: We will bundle certain values into the category of \"Other\".\n",
    "\n",
    "More detail about each data preparation steps are outlined in what follows in the form of comments and markdown cells."
   ]
  },
  {
   "cell_type": "code",
   "execution_count": 21,
   "id": "8f939586",
   "metadata": {},
   "outputs": [],
   "source": [
    "def drop_empty_rows(df):\n",
    "    print(\"From \" + str(df.shape[0]) +\" rows \", end = '')\n",
    "    print( df.isnull().any(axis=1).sum(), end = '') \n",
    "    print( \" rows containing null values were dropped\" , end = '')\n",
    "    df = df.dropna() \n",
    "    print( \", leaving \" + str(df.shape[0]) +\" rows.\")\n",
    "    return df"
   ]
  },
  {
   "cell_type": "markdown",
   "id": "089f821f",
   "metadata": {},
   "source": [
    "However as we will be analysing Gender, Race and Popular Programming Languages separately, it makes sense *not* to remove until we subset the data below."
   ]
  },
  {
   "cell_type": "markdown",
   "id": "cc795dbb",
   "metadata": {},
   "source": [
    "<a name=\"Gender\"></a>\n",
    "# Gender"
   ]
  },
  {
   "cell_type": "markdown",
   "id": "2e83f285",
   "metadata": {},
   "source": [
    "1. How has the gender distribution of the survey participants changed between 2017 – 2021?"
   ]
  },
  {
   "cell_type": "markdown",
   "id": "13702d80",
   "metadata": {},
   "source": [
    "<a name=\"CleanGender\"></a>\n",
    "## Clean data"
   ]
  },
  {
   "cell_type": "code",
   "execution_count": 22,
   "id": "fbee615c",
   "metadata": {},
   "outputs": [],
   "source": [
    "# Subset the data to only the columns we are analysing\n",
    "df2017 = all_data[0][['Gender']]\n",
    "df2018 = all_data[1][['Gender']]\n",
    "df2019 = all_data[2][['Gender']]\n",
    "df2020 = all_data[3][['Gender']]\n",
    "df2021 = all_data[4][['Gender']]"
   ]
  },
  {
   "cell_type": "code",
   "execution_count": 23,
   "id": "d3062575",
   "metadata": {},
   "outputs": [
    {
     "name": "stdout",
     "output_type": "stream",
     "text": [
      "From 51392 rows 16345 rows containing null values were dropped, leaving 35047 rows.\n",
      "From 98855 rows 34386 rows containing null values were dropped, leaving 64469 rows.\n",
      "From 88883 rows 3477 rows containing null values were dropped, leaving 85406 rows.\n",
      "From 64461 rows 13904 rows containing null values were dropped, leaving 50557 rows.\n",
      "From 83439 rows 1153 rows containing null values were dropped, leaving 82286 rows.\n"
     ]
    }
   ],
   "source": [
    "# Remove missing values\n",
    "df2017 = drop_empty_rows(df2017)\n",
    "df2018 = drop_empty_rows(df2018)\n",
    "df2019 = drop_empty_rows(df2019)\n",
    "df2020 = drop_empty_rows(df2020)\n",
    "df2021 = drop_empty_rows(df2021)"
   ]
  },
  {
   "cell_type": "markdown",
   "id": "e7de5dea",
   "metadata": {},
   "source": [
    "In some years, a large number of rows are dropped, but it must be kept in mind that a much larger number of rows remain."
   ]
  },
  {
   "cell_type": "markdown",
   "id": "2ac04efc",
   "metadata": {},
   "source": [
    "Let us first look at how gender distributions change over time."
   ]
  },
  {
   "cell_type": "code",
   "execution_count": 24,
   "id": "7f8c1af5",
   "metadata": {},
   "outputs": [
    {
     "name": "stdout",
     "output_type": "stream",
     "text": [
      "{'Female', 'Gender non-conforming', 'Other', 'Transgender', 'Male'}\n",
      "{'Transgender', 'Male', 'Female', 'Non-binary, genderqueer, or gender non-conforming'}\n",
      "{'Man', 'Woman', 'Non-binary, genderqueer, or gender non-conforming'}\n",
      "{'Man', 'Woman', 'Non-binary, genderqueer, or gender non-conforming'}\n",
      "{'Non-binary, genderqueer, or gender non-conforming', 'Prefer not to say', 'Or, in your own words:', 'Man', 'Woman'}\n"
     ]
    }
   ],
   "source": [
    "print(get_possible_values(df2017, 'Gender'))\n",
    "print(get_possible_values(df2018, 'Gender'))\n",
    "print(get_possible_values(df2019, 'Gender'))\n",
    "print(get_possible_values(df2020, 'Gender'))\n",
    "print(get_possible_values(df2021, 'Gender'))"
   ]
  },
  {
   "cell_type": "markdown",
   "id": "bcd9a4a6",
   "metadata": {},
   "source": [
    "To handle this categorical variable, we note that the possible values for this variable change each year. Only \"Male\" and \"Female\" remain the same (though in some years these are sometimes labelled \"Man\" and \"Woman\".)\n",
    "\n",
    "For this reason, we will be combining every entry that is neither Male nor Female into the Other category, so that differences over the years can be noted."
   ]
  },
  {
   "cell_type": "markdown",
   "id": "fead8cc5",
   "metadata": {},
   "source": [
    "<a name=\"AnalyseGender\"></a>\n",
    "## Analyse data"
   ]
  },
  {
   "cell_type": "markdown",
   "id": "a5246024",
   "metadata": {},
   "source": [
    "### 2017"
   ]
  },
  {
   "cell_type": "code",
   "execution_count": 25,
   "id": "d3001aaa",
   "metadata": {},
   "outputs": [
    {
     "data": {
      "image/png": "[encoded data removed]",
      "text/plain": [
       "<Figure size 720x360 with 1 Axes>"
      ]
     },
     "metadata": {
      "needs_background": "light"
     },
     "output_type": "display_data"
    },
    {
     "data": {
      "text/html": [
       "<div>\n",
       "<style scoped>\n",
       "    .dataframe tbody tr th:only-of-type {\n",
       "        vertical-align: middle;\n",
       "    }\n",
       "\n",
       "    .dataframe tbody tr th {\n",
       "        vertical-align: top;\n",
       "    }\n",
       "\n",
       "    .dataframe thead th {\n",
       "        text-align: right;\n",
       "    }\n",
       "</style>\n",
       "<table border=\"1\" class=\"dataframe\">\n",
       "  <thead>\n",
       "    <tr style=\"text-align: right;\">\n",
       "      <th></th>\n",
       "      <th>count</th>\n",
       "    </tr>\n",
       "    <tr>\n",
       "      <th>Gender</th>\n",
       "      <th></th>\n",
       "    </tr>\n",
       "  </thead>\n",
       "  <tbody>\n",
       "    <tr>\n",
       "      <th>Female</th>\n",
       "      <td>0.077148</td>\n",
       "    </tr>\n",
       "    <tr>\n",
       "      <th>Male</th>\n",
       "      <td>0.896920</td>\n",
       "    </tr>\n",
       "    <tr>\n",
       "      <th>Other</th>\n",
       "      <td>0.025932</td>\n",
       "    </tr>\n",
       "  </tbody>\n",
       "</table>\n",
       "</div>"
      ],
      "text/plain": [
       "           count\n",
       "Gender          \n",
       "Female  0.077148\n",
       "Male    0.896920\n",
       "Other   0.025932"
      ]
     },
     "execution_count": 25,
     "metadata": {},
     "output_type": "execute_result"
    }
   ],
   "source": [
    "poss_gender_vals = get_possible_values(df2017, 'Gender')\n",
    "props_df2017 = clean_and_plot(df2017, column_name = 'Gender', possible_values = poss_gender_vals)\n",
    "#print(props_df2017.groupby(['Gender'], as_index=True).agg('sum'))\n",
    "props_df2017.rename({'Transgender': 'Other', 'Non-binary': 'Other', 'Gender non-conforming': 'Other'}, inplace = True)\n",
    "props_df2017 = props_df2017.groupby(['Gender'], as_index=True).agg('sum')\n",
    "props_df2017"
   ]
  },
  {
   "cell_type": "markdown",
   "id": "d09cad07",
   "metadata": {},
   "source": [
    "### 2018"
   ]
  },
  {
   "cell_type": "code",
   "execution_count": 26,
   "id": "9487c364",
   "metadata": {},
   "outputs": [
    {
     "name": "stdout",
     "output_type": "stream",
     "text": [
      "{'Transgender', 'Male', 'Female', 'Non-binary, genderqueer, or gender non-conforming'}\n"
     ]
    },
    {
     "data": {
      "image/png": "[encoded data removed]",
      "text/plain": [
       "<Figure size 720x360 with 1 Axes>"
      ]
     },
     "metadata": {
      "needs_background": "light"
     },
     "output_type": "display_data"
    },
    {
     "data": {
      "text/html": [
       "<div>\n",
       "<style scoped>\n",
       "    .dataframe tbody tr th:only-of-type {\n",
       "        vertical-align: middle;\n",
       "    }\n",
       "\n",
       "    .dataframe tbody tr th {\n",
       "        vertical-align: top;\n",
       "    }\n",
       "\n",
       "    .dataframe thead th {\n",
       "        text-align: right;\n",
       "    }\n",
       "</style>\n",
       "<table border=\"1\" class=\"dataframe\">\n",
       "  <thead>\n",
       "    <tr style=\"text-align: right;\">\n",
       "      <th></th>\n",
       "      <th>count</th>\n",
       "    </tr>\n",
       "    <tr>\n",
       "      <th>Gender</th>\n",
       "      <th></th>\n",
       "    </tr>\n",
       "  </thead>\n",
       "  <tbody>\n",
       "    <tr>\n",
       "      <th>Female</th>\n",
       "      <td>0.067610</td>\n",
       "    </tr>\n",
       "    <tr>\n",
       "      <th>Male</th>\n",
       "      <td>0.916779</td>\n",
       "    </tr>\n",
       "    <tr>\n",
       "      <th>Other</th>\n",
       "      <td>0.015611</td>\n",
       "    </tr>\n",
       "  </tbody>\n",
       "</table>\n",
       "</div>"
      ],
      "text/plain": [
       "           count\n",
       "Gender          \n",
       "Female  0.067610\n",
       "Male    0.916779\n",
       "Other   0.015611"
      ]
     },
     "execution_count": 26,
     "metadata": {},
     "output_type": "execute_result"
    }
   ],
   "source": [
    "poss_gender_vals = get_possible_values(df2018, 'Gender', verbose = True)\n",
    "props_df2018 = clean_and_plot(df2018, column_name = 'Gender', possible_values = poss_gender_vals)\n",
    "props_df2018.rename({'Non-binary, genderqueer, or gender non-conforming': 'Other', 'Transgender': 'Other'}, inplace = True)\n",
    "props_df2018 = props_df2018.groupby(['Gender'], as_index=True).agg('sum')\n",
    "props_df2018"
   ]
  },
  {
   "cell_type": "markdown",
   "id": "4dcf06b7",
   "metadata": {},
   "source": [
    "### 2019"
   ]
  },
  {
   "cell_type": "code",
   "execution_count": 27,
   "id": "e048f00a",
   "metadata": {},
   "outputs": [
    {
     "data": {
      "image/png": "[encoded data removed]",
      "text/plain": [
       "<Figure size 720x360 with 1 Axes>"
      ]
     },
     "metadata": {
      "needs_background": "light"
     },
     "output_type": "display_data"
    },
    {
     "data": {
      "text/html": [
       "<div>\n",
       "<style scoped>\n",
       "    .dataframe tbody tr th:only-of-type {\n",
       "        vertical-align: middle;\n",
       "    }\n",
       "\n",
       "    .dataframe tbody tr th {\n",
       "        vertical-align: top;\n",
       "    }\n",
       "\n",
       "    .dataframe thead th {\n",
       "        text-align: right;\n",
       "    }\n",
       "</style>\n",
       "<table border=\"1\" class=\"dataframe\">\n",
       "  <thead>\n",
       "    <tr style=\"text-align: right;\">\n",
       "      <th></th>\n",
       "      <th>count</th>\n",
       "    </tr>\n",
       "    <tr>\n",
       "      <th>Gender</th>\n",
       "      <th></th>\n",
       "    </tr>\n",
       "  </thead>\n",
       "  <tbody>\n",
       "    <tr>\n",
       "      <th>Female</th>\n",
       "      <td>0.077992</td>\n",
       "    </tr>\n",
       "    <tr>\n",
       "      <th>Male</th>\n",
       "      <td>0.910256</td>\n",
       "    </tr>\n",
       "    <tr>\n",
       "      <th>Other</th>\n",
       "      <td>0.011753</td>\n",
       "    </tr>\n",
       "  </tbody>\n",
       "</table>\n",
       "</div>"
      ],
      "text/plain": [
       "           count\n",
       "Gender          \n",
       "Female  0.077992\n",
       "Male    0.910256\n",
       "Other   0.011753"
      ]
     },
     "execution_count": 27,
     "metadata": {},
     "output_type": "execute_result"
    }
   ],
   "source": [
    "poss_gender_vals = get_possible_values(df2019, 'Gender')\n",
    "props_df2019 = clean_and_plot(df2019, column_name = 'Gender', possible_values = poss_gender_vals)\n",
    "props_df2019.rename({'Man': 'Male', 'Woman' : 'Female'}, inplace = True)\n",
    "props_df2019.rename({'Non-binary, genderqueer, or gender non-conforming': 'Other'}, inplace = True)\n",
    "props_df2019 = props_df2019.groupby(['Gender'], as_index=True).agg('sum')\n",
    "props_df2019"
   ]
  },
  {
   "cell_type": "markdown",
   "id": "1f626ac6",
   "metadata": {},
   "source": [
    "### 2020"
   ]
  },
  {
   "cell_type": "code",
   "execution_count": 28,
   "id": "e5b230b3",
   "metadata": {},
   "outputs": [
    {
     "data": {
      "image/png": "[encoded data removed]",
      "text/plain": [
       "<Figure size 720x360 with 1 Axes>"
      ]
     },
     "metadata": {
      "needs_background": "light"
     },
     "output_type": "display_data"
    },
    {
     "data": {
      "text/html": [
       "<div>\n",
       "<style scoped>\n",
       "    .dataframe tbody tr th:only-of-type {\n",
       "        vertical-align: middle;\n",
       "    }\n",
       "\n",
       "    .dataframe tbody tr th {\n",
       "        vertical-align: top;\n",
       "    }\n",
       "\n",
       "    .dataframe thead th {\n",
       "        text-align: right;\n",
       "    }\n",
       "</style>\n",
       "<table border=\"1\" class=\"dataframe\">\n",
       "  <thead>\n",
       "    <tr style=\"text-align: right;\">\n",
       "      <th></th>\n",
       "      <th>count</th>\n",
       "    </tr>\n",
       "    <tr>\n",
       "      <th>Gender</th>\n",
       "      <th></th>\n",
       "    </tr>\n",
       "  </thead>\n",
       "  <tbody>\n",
       "    <tr>\n",
       "      <th>Female</th>\n",
       "      <td>0.079335</td>\n",
       "    </tr>\n",
       "    <tr>\n",
       "      <th>Male</th>\n",
       "      <td>0.908405</td>\n",
       "    </tr>\n",
       "    <tr>\n",
       "      <th>Other</th>\n",
       "      <td>0.012260</td>\n",
       "    </tr>\n",
       "  </tbody>\n",
       "</table>\n",
       "</div>"
      ],
      "text/plain": [
       "           count\n",
       "Gender          \n",
       "Female  0.079335\n",
       "Male    0.908405\n",
       "Other   0.012260"
      ]
     },
     "execution_count": 28,
     "metadata": {},
     "output_type": "execute_result"
    }
   ],
   "source": [
    "poss_gender_vals = get_possible_values(df2020, 'Gender')\n",
    "props_df2020 = clean_and_plot(df2020, column_name = 'Gender', possible_values = poss_gender_vals)\n",
    "props_df2020.rename({'Man': 'Male', 'Woman' : 'Female'}, inplace = True)\n",
    "props_df2020.rename({'Non-binary, genderqueer, or gender non-conforming': 'Other'}, inplace = True)\n",
    "props_df2020 = props_df2020.groupby(['Gender'], as_index=True).agg('sum')\n",
    "props_df2020"
   ]
  },
  {
   "cell_type": "markdown",
   "id": "ecb86666",
   "metadata": {},
   "source": [
    "### 2021"
   ]
  },
  {
   "cell_type": "code",
   "execution_count": 29,
   "id": "333b690c",
   "metadata": {},
   "outputs": [
    {
     "data": {
      "image/png": "[encoded data removed]",
      "text/plain": [
       "<Figure size 720x360 with 1 Axes>"
      ]
     },
     "metadata": {
      "needs_background": "light"
     },
     "output_type": "display_data"
    },
    {
     "data": {
      "text/html": [
       "<div>\n",
       "<style scoped>\n",
       "    .dataframe tbody tr th:only-of-type {\n",
       "        vertical-align: middle;\n",
       "    }\n",
       "\n",
       "    .dataframe tbody tr th {\n",
       "        vertical-align: top;\n",
       "    }\n",
       "\n",
       "    .dataframe thead th {\n",
       "        text-align: right;\n",
       "    }\n",
       "</style>\n",
       "<table border=\"1\" class=\"dataframe\">\n",
       "  <thead>\n",
       "    <tr style=\"text-align: right;\">\n",
       "      <th></th>\n",
       "      <th>count</th>\n",
       "    </tr>\n",
       "    <tr>\n",
       "      <th>Gender</th>\n",
       "      <th></th>\n",
       "    </tr>\n",
       "  </thead>\n",
       "  <tbody>\n",
       "    <tr>\n",
       "      <th>Female</th>\n",
       "      <td>0.052570</td>\n",
       "    </tr>\n",
       "    <tr>\n",
       "      <th>Male</th>\n",
       "      <td>0.906957</td>\n",
       "    </tr>\n",
       "    <tr>\n",
       "      <th>Other</th>\n",
       "      <td>0.040473</td>\n",
       "    </tr>\n",
       "  </tbody>\n",
       "</table>\n",
       "</div>"
      ],
      "text/plain": [
       "           count\n",
       "Gender          \n",
       "Female  0.052570\n",
       "Male    0.906957\n",
       "Other   0.040473"
      ]
     },
     "execution_count": 29,
     "metadata": {},
     "output_type": "execute_result"
    }
   ],
   "source": [
    "poss_gender_vals = get_possible_values(df2021, 'Gender')\n",
    "props_df2021 = clean_and_plot(df2021, column_name = 'Gender', possible_values = poss_gender_vals)\n",
    "props_df2021.rename({'Man': 'Male', 'Woman' : 'Female'}, inplace = True)\n",
    "props_df2021.rename({'Non-binary, genderqueer, or gender non-conforming': 'Other', \n",
    "                     'Or, in your own words:': 'Other', 'Prefer not to say': 'Other'}\n",
    "                    , inplace = True)\n",
    "props_df2021 = props_df2021.groupby(['Gender'], as_index=True).agg('sum')\n",
    "props_df2021"
   ]
  },
  {
   "cell_type": "markdown",
   "id": "39c151ff",
   "metadata": {},
   "source": [
    "<a name=\"VisualiseGender\"></a>\n",
    "## Visualise gender data"
   ]
  },
  {
   "cell_type": "code",
   "execution_count": 30,
   "id": "c7a40885",
   "metadata": {},
   "outputs": [],
   "source": [
    "props_df2017.rename(columns={\"count\": \"2017\"}, inplace = True)\n",
    "props_df2018.rename(columns={\"count\": \"2018\"}, inplace = True)\n",
    "props_df2019.rename(columns={\"count\": \"2019\"}, inplace = True)\n",
    "props_df2020.rename(columns={\"count\": \"2020\"}, inplace = True)\n",
    "props_df2021.rename(columns={\"count\": \"2021\"}, inplace = True)"
   ]
  },
  {
   "cell_type": "code",
   "execution_count": 31,
   "id": "c417cf3f",
   "metadata": {},
   "outputs": [],
   "source": [
    "counts_df = props_df2017.join(props_df2018)\n",
    "counts_df = counts_df.join(props_df2019)\n",
    "counts_df = counts_df.join(props_df2020)\n",
    "counts_df = counts_df.join(props_df2021)"
   ]
  },
  {
   "cell_type": "code",
   "execution_count": 32,
   "id": "409bbfca",
   "metadata": {},
   "outputs": [
    {
     "data": {
      "image/png": "[encoded data removed]",
      "text/plain": [
       "<Figure size 720x360 with 1 Axes>"
      ]
     },
     "metadata": {
      "needs_background": "light"
     },
     "output_type": "display_data"
    }
   ],
   "source": [
    "counts_df = counts_df.reindex([\"Male\", \"Female\", \"Other\"])\n",
    "counts_df.plot(kind='bar', figsize = ((10,5)));\n",
    "fontsize = 14\n",
    "plt.legend(labels = [2017,2018,2019,2020,2021], fontsize = fontsize)\n",
    "plt.xlabel('Gender', labelpad = 20, fontsize = fontsize)\n",
    "plt.ylabel('Proportion', labelpad = 20, fontsize = fontsize)\n",
    "plt.xticks(fontsize = fontsize); plt.yticks(fontsize = fontsize)\n",
    "plt.title('Change in gender representation over time', fontsize = fontsize, pad = 20)\n",
    "plt.show()"
   ]
  },
  {
   "cell_type": "code",
   "execution_count": 33,
   "id": "70f754d9",
   "metadata": {},
   "outputs": [],
   "source": [
    "# Make a publication-quality plot for Gender"
   ]
  },
  {
   "cell_type": "code",
   "execution_count": 34,
   "id": "5ed81eee",
   "metadata": {},
   "outputs": [
    {
     "data": {
      "image/png": "[encoded data removed]",
      "text/html": [
       "<div style=\"vertical-align: middle;\"><strong>special_palette</strong> </div><div class=\"cmap\"><img alt=\"special_palette colormap\" title=\"special_palette\" style=\"border: 1px solid #555;\" src=\"data:image/png;base64,iVBORw0KGgoAAAANSUhEUgAAAgAAAABACAYAAABsv8+/AAAAHnRFWHRUaXRsZQBzcGVjaWFsX3BhbGV0dGUgY29sb3JtYXCbRfdEAAAAJHRFWHREZXNjcmlwdGlvbgBzcGVjaWFsX3BhbGV0dGUgY29sb3JtYXBR+R4rAAAAMHRFWHRBdXRob3IATWF0cGxvdGxpYiB2My40LjIsIGh0dHBzOi8vbWF0cGxvdGxpYi5vcmes1mPdAAAAMnRFWHRTb2Z0d2FyZQBNYXRwbG90bGliIHYzLjQuMiwgaHR0cHM6Ly9tYXRwbG90bGliLm9yZ4Jw/PoAAAFLSURBVHic7daxDcJAAARBIHBuAhKQTIJphv7bgQY+5i3tTAUnXbLn1/L5njikdb3OnsDAdn/PnsDA/txnT2DgcfPLUV1mDwAA/k8AAECQAACAIAEAAEECAACCBAAABAkAAAgSAAAQJAAAIEgAAECQAACAIAEAAEECAACCBAAABAkAAAgSAAAQJAAAIEgAAECQAACAIAEAAEECAACCBAAABAkAAAgSAAAQJAAAIEgAAECQAACAIAEAAEECAACCBAAABAkAAAgSAAAQJAAAIEgAAECQAACAIAEAAEECAACCBAAABAkAAAgSAAAQJAAAIEgAAECQAACAIAEAAEECAACCBAAABAkAAAgSAAAQJAAAIEgAAECQAACAIAEAAEECAACCBAAABAkAAAgSAAAQJAAAIEgAAECQAACAIAEAAEECAACCBAAABAkAAAj6AVTrA09Ay04qAAAAAElFTkSuQmCC\"></div><div style=\"vertical-align: middle; max-width: 514px; display: flex; justify-content: space-between;\"><div style=\"float: left;\"><div title=\"#25064cff\" style=\"display: inline-block; width: 1em; height: 1em; margin: 0; vertical-align: middle; border: 1px solid #555; background-color: #25064cff;\"></div> under</div><div style=\"margin: 0 auto; display: inline-block;\">bad <div title=\"#00000000\" style=\"display: inline-block; width: 1em; height: 1em; margin: 0; vertical-align: middle; border: 1px solid #555; background-color: #00000000;\"></div></div><div style=\"float: right;\">over <div title=\"#9768d1ff\" style=\"display: inline-block; width: 1em; height: 1em; margin: 0; vertical-align: middle; border: 1px solid #555; background-color: #9768d1ff;\"></div></div>"
      ],
      "text/plain": [
       "<matplotlib.colors.ListedColormap at 0x14984627910>"
      ]
     },
     "execution_count": 34,
     "metadata": {},
     "output_type": "execute_result"
    }
   ],
   "source": [
    "# Create custom palette\n",
    "from matplotlib import cm \n",
    "from matplotlib.colors import ListedColormap,LinearSegmentedColormap\n",
    "newcolors = np.array([[151, 104, 209],\n",
    "[123, 82, 171],\n",
    "[85, 50, 133],\n",
    "[54, 23, 94],\n",
    "[37, 6, 76]])/255\n",
    "special_palette = ListedColormap(newcolors[::-1], name='special_palette')\n",
    "special_palette"
   ]
  },
  {
   "cell_type": "code",
   "execution_count": 35,
   "id": "dd996073",
   "metadata": {},
   "outputs": [
    {
     "data": {
      "image/png": "[encoded data removed]",
      "text/html": [
       "<div style=\"vertical-align: middle;\"><strong>special_palette</strong> </div><div class=\"cmap\"><img alt=\"special_palette colormap\" title=\"special_palette\" style=\"border: 1px solid #555;\" src=\"data:image/png;base64,iVBORw0KGgoAAAANSUhEUgAAAgAAAABACAYAAABsv8+/AAAAHnRFWHRUaXRsZQBzcGVjaWFsX3BhbGV0dGUgY29sb3JtYXCbRfdEAAAAJHRFWHREZXNjcmlwdGlvbgBzcGVjaWFsX3BhbGV0dGUgY29sb3JtYXBR+R4rAAAAMHRFWHRBdXRob3IATWF0cGxvdGxpYiB2My40LjIsIGh0dHBzOi8vbWF0cGxvdGxpYi5vcmes1mPdAAAAMnRFWHRTb2Z0d2FyZQBNYXRwbG90bGliIHYzLjQuMiwgaHR0cHM6Ly9tYXRwbG90bGliLm9yZ4Jw/PoAAAFLSURBVHic7dahDQJBAABBwL/lEyzJCxRtUD69EOzTwGE5kp2pYOUen4/zfuAvrbf37AQG1vtrdgIj2zK7gJHrZXYBX5xmBwAAv2cAACDIAABAkAEAgCADAABBBgAAggwAAAQZAAAIMgAAEGQAACDIAABAkAEAgCADAABBBgAAggwAAAQZAAAIMgAAEGQAACDIAABAkAEAgCADAABBBgAAggwAAAQZAAAIMgAAEGQAACDIAABAkAEAgCADAABBBgAAggwAAAQZAAAIMgAAEGQAACDIAABAkAEAgCADAABBBgAAggwAAAQZAAAIMgAAEGQAACDIAABAkAEAgCADAABBBgAAggwAAAQZAAAIMgAAEGQAACDIAABAkAEAgCADAABBBgAAggwAAAQZAAAIMgAAEGQAACDIAABAkAEAgCADAABBBgAAggwAAAR9AIZzBZF0fc4uAAAAAElFTkSuQmCC\"></div><div style=\"vertical-align: middle; max-width: 514px; display: flex; justify-content: space-between;\"><div style=\"float: left;\"><div title=\"#d14916ff\" style=\"display: inline-block; width: 1em; height: 1em; margin: 0; vertical-align: middle; border: 1px solid #555; background-color: #d14916ff;\"></div> under</div><div style=\"margin: 0 auto; display: inline-block;\">bad <div title=\"#00000000\" style=\"display: inline-block; width: 1em; height: 1em; margin: 0; vertical-align: middle; border: 1px solid #555; background-color: #00000000;\"></div></div><div style=\"float: right;\">over <div title=\"#ffec27ff\" style=\"display: inline-block; width: 1em; height: 1em; margin: 0; vertical-align: middle; border: 1px solid #555; background-color: #ffec27ff;\"></div></div>"
      ],
      "text/plain": [
       "<matplotlib.colors.ListedColormap at 0x149849e8ca0>"
      ]
     },
     "execution_count": 35,
     "metadata": {},
     "output_type": "execute_result"
    }
   ],
   "source": [
    "# Create custom palette\n",
    "from matplotlib import cm \n",
    "from matplotlib.colors import ListedColormap,LinearSegmentedColormap\n",
    "newcolors = np.array([[255, 236, 39],\n",
    "[255, 201, 13],\n",
    "[255, 163, 0],\n",
    "[232, 115, 12],\n",
    "[209, 73, 22],\n",
    "])/255\n",
    "gold_palette = ListedColormap(newcolors[::-1], name='special_palette')\n",
    "gold_palette_reversed = ListedColormap(newcolors[::1], name='special_palette')\n",
    "gold_palette"
   ]
  },
  {
   "cell_type": "code",
   "execution_count": 36,
   "id": "9f8bc247",
   "metadata": {},
   "outputs": [],
   "source": [
    "import matplotlib.pyplot as plt\n",
    "plt.rcParams[\"font.family\"] = \"serif\""
   ]
  },
  {
   "cell_type": "code",
   "execution_count": 37,
   "id": "11063050",
   "metadata": {},
   "outputs": [
    {
     "data": {
      "image/png": "[encoded data removed]",
      "text/plain": [
       "<Figure size 720x360 with 1 Axes>"
      ]
     },
     "metadata": {
      "needs_background": "light"
     },
     "output_type": "display_data"
    }
   ],
   "source": [
    "counts_df = counts_df.reindex([\"Male\", \"Female\", \"Other\"])\n",
    "counts_df.plot(kind='bar', figsize = ((10,5)), colormap = gold_palette);\n",
    "fontsize = 14\n",
    "plt.legend(labels = [2017,2018,2019,2020,2021], fontsize = fontsize)\n",
    "plt.xlabel('Gender', labelpad = 20, fontsize = fontsize)\n",
    "plt.ylabel('Proportion', labelpad = 20, fontsize = fontsize)\n",
    "plt.xticks(fontsize = fontsize); plt.yticks(fontsize = fontsize)\n",
    "plt.title('Change in gender representation over time', fontsize = fontsize, pad = 20)\n",
    "plt.tight_layout()\n",
    "plt.savefig('Gender.png')\n",
    "plt.show()"
   ]
  },
  {
   "cell_type": "code",
   "execution_count": 38,
   "id": "2ca7c0d8",
   "metadata": {},
   "outputs": [
    {
     "data": {
      "text/html": [
       "<div>\n",
       "<style scoped>\n",
       "    .dataframe tbody tr th:only-of-type {\n",
       "        vertical-align: middle;\n",
       "    }\n",
       "\n",
       "    .dataframe tbody tr th {\n",
       "        vertical-align: top;\n",
       "    }\n",
       "\n",
       "    .dataframe thead th {\n",
       "        text-align: right;\n",
       "    }\n",
       "</style>\n",
       "<table border=\"1\" class=\"dataframe\">\n",
       "  <thead>\n",
       "    <tr style=\"text-align: right;\">\n",
       "      <th></th>\n",
       "      <th>2017</th>\n",
       "      <th>2018</th>\n",
       "      <th>2019</th>\n",
       "      <th>2020</th>\n",
       "      <th>2021</th>\n",
       "    </tr>\n",
       "    <tr>\n",
       "      <th>Gender</th>\n",
       "      <th></th>\n",
       "      <th></th>\n",
       "      <th></th>\n",
       "      <th></th>\n",
       "      <th></th>\n",
       "    </tr>\n",
       "  </thead>\n",
       "  <tbody>\n",
       "    <tr>\n",
       "      <th>Male</th>\n",
       "      <td>0.896920</td>\n",
       "      <td>0.916779</td>\n",
       "      <td>0.910256</td>\n",
       "      <td>0.908405</td>\n",
       "      <td>0.906957</td>\n",
       "    </tr>\n",
       "    <tr>\n",
       "      <th>Female</th>\n",
       "      <td>0.077148</td>\n",
       "      <td>0.067610</td>\n",
       "      <td>0.077992</td>\n",
       "      <td>0.079335</td>\n",
       "      <td>0.052570</td>\n",
       "    </tr>\n",
       "    <tr>\n",
       "      <th>Other</th>\n",
       "      <td>0.025932</td>\n",
       "      <td>0.015611</td>\n",
       "      <td>0.011753</td>\n",
       "      <td>0.012260</td>\n",
       "      <td>0.040473</td>\n",
       "    </tr>\n",
       "  </tbody>\n",
       "</table>\n",
       "</div>"
      ],
      "text/plain": [
       "            2017      2018      2019      2020      2021\n",
       "Gender                                                  \n",
       "Male    0.896920  0.916779  0.910256  0.908405  0.906957\n",
       "Female  0.077148  0.067610  0.077992  0.079335  0.052570\n",
       "Other   0.025932  0.015611  0.011753  0.012260  0.040473"
      ]
     },
     "execution_count": 38,
     "metadata": {},
     "output_type": "execute_result"
    }
   ],
   "source": [
    "counts_df"
   ]
  },
  {
   "cell_type": "markdown",
   "id": "901ef5e5",
   "metadata": {},
   "source": [
    "**CRISP-DM 5. Evaluation (Gender)** \n",
    "\n",
    "Remarkably, there has been almost no shift in the proportion in the \"Male\" category, which has stayed at almost 91% throughout.\n",
    "\n",
    "There has been a slight decrease in the proportion in the \"Female\" category with a concomitant increase in the \"Other\" category."
   ]
  },
  {
   "cell_type": "markdown",
   "id": "0e828e14",
   "metadata": {},
   "source": [
    "<a name=\"Race\"></a>\n",
    "# Race/Ethnicity"
   ]
  },
  {
   "cell_type": "markdown",
   "id": "9ba096bf",
   "metadata": {},
   "source": [
    "2. How has the racial/ethnic distribution of the survey participants changed between 2017 – 2021?"
   ]
  },
  {
   "cell_type": "markdown",
   "id": "cbc52d87",
   "metadata": {},
   "source": [
    "<a name=\"CleanRace\"></a>\n",
    "## Clean Race/Ethnicity data"
   ]
  },
  {
   "cell_type": "code",
   "execution_count": 39,
   "id": "6e05e73c",
   "metadata": {},
   "outputs": [
    {
     "name": "stdout",
     "output_type": "stream",
     "text": [
      "From 51392 rows 18359 rows containing null values were dropped, leaving 33033 rows.\n",
      "From 98855 rows 41382 rows containing null values were dropped, leaving 57473 rows.\n",
      "From 88883 rows 12215 rows containing null values were dropped, leaving 76668 rows.\n",
      "From 64461 rows 18513 rows containing null values were dropped, leaving 45948 rows.\n",
      "From 83439 rows 3975 rows containing null values were dropped, leaving 79464 rows.\n"
     ]
    }
   ],
   "source": [
    "df2017 = drop_empty_rows(all_data[0][['Race']])\n",
    "df2018 = drop_empty_rows(all_data[1][['RaceEthnicity']])\n",
    "df2019 = drop_empty_rows(all_data[2][['Ethnicity']])\n",
    "df2020 = drop_empty_rows(all_data[3][['Ethnicity']])\n",
    "df2021 = drop_empty_rows(all_data[4][['Ethnicity']])"
   ]
  },
  {
   "cell_type": "code",
   "execution_count": 40,
   "id": "fe4f0564",
   "metadata": {},
   "outputs": [],
   "source": [
    "# Moving on now to look at Race/Ethnicity"
   ]
  },
  {
   "cell_type": "code",
   "execution_count": 41,
   "id": "809f65e2",
   "metadata": {},
   "outputs": [
    {
     "name": "stdout",
     "output_type": "stream",
     "text": [
      "{'South Asian', 'East Asian', 'White or of European descent', 'Hispanic or Latino/Latina', 'Native American, Pacific Islander, or Indigenous Australian', 'I prefer not to say', 'Middle Eastern', 'I don’t know', 'Black or of African descent'}\n",
      "{'South Asian', 'East Asian', 'White or of European descent', 'Hispanic or Latino/Latina', 'Native American, Pacific Islander, or Indigenous Australian', 'Middle Eastern', 'Black or of African descent'}\n",
      "{'South Asian', 'Biracial', 'East Asian', 'Multiracial', 'White or of European descent', 'Hispanic or Latino/Latina', 'Native American, Pacific Islander, or Indigenous Australian', 'Middle Eastern', 'Black or of African descent'}\n",
      "{'South Asian', 'Hispanic or Latino/a/x', 'Biracial', 'East Asian', 'Multiracial', 'White or of European descent', 'Indigenous (such as Native American, Pacific Islander, or Indigenous Australian)', 'Middle Eastern', 'Southeast Asian', 'Black or of African descent'}\n",
      "{'South Asian', 'Hispanic or Latino/a/x', 'Biracial', 'Prefer not to say', 'Multiracial', 'East Asian', 'White or of European descent', 'Or, in your own words:', 'Indigenous (such as Native American, Pacific Islander, or Indigenous Australian)', 'Southeast Asian', 'Middle Eastern', \"I don't know\", 'Black or of African descent'}\n"
     ]
    }
   ],
   "source": [
    "print(get_possible_values(df2017, 'Race'))\n",
    "print(get_possible_values(df2018, 'RaceEthnicity'))\n",
    "print((get_possible_values(df2019, 'Ethnicity')))\n",
    "print(get_possible_values(df2020, 'Ethnicity'))\n",
    "print(get_possible_values(df2021, 'Ethnicity'))"
   ]
  },
  {
   "cell_type": "markdown",
   "id": "fc2887cf",
   "metadata": {},
   "source": [
    "To handle this categorical variable, we note again that the possible values for this variable change each year. Only \"Male\" and \"Female\" remain the same (though in some years these are sometimes labelled \"Man\" and \"Woman\".)\n",
    "\n",
    "Six categories have remained essentially the same throughout the years: \n",
    "East Asian\n",
    "Hispanic or Latino/Latina \n",
    "South Asian\n",
    "Black or of African descent\n",
    "White or of European descent\n",
    "Native American, Pacific Islander, or Indigenous Australian\n",
    "Middle Eastern\n",
    "\n",
    "However even with these there have been minor variations in the naming. These will need to be made consistent.\n",
    "\n",
    "The following categories have come and gone throughout the years:\n",
    "Biracial\n",
    "Multiracial\n",
    "Southeast Asian\n",
    "I don't know\n",
    "I prefer not to say\n",
    "Or, in your own words:\n",
    "\n",
    "All of these will be combined into \"Other\""
   ]
  },
  {
   "cell_type": "code",
   "execution_count": 42,
   "id": "c5e5a9e2",
   "metadata": {},
   "outputs": [
    {
     "data": {
      "text/html": [
       "<div>\n",
       "<style scoped>\n",
       "    .dataframe tbody tr th:only-of-type {\n",
       "        vertical-align: middle;\n",
       "    }\n",
       "\n",
       "    .dataframe tbody tr th {\n",
       "        vertical-align: top;\n",
       "    }\n",
       "\n",
       "    .dataframe thead th {\n",
       "        text-align: right;\n",
       "    }\n",
       "</style>\n",
       "<table border=\"1\" class=\"dataframe\">\n",
       "  <thead>\n",
       "    <tr style=\"text-align: right;\">\n",
       "      <th></th>\n",
       "      <th>count</th>\n",
       "    </tr>\n",
       "    <tr>\n",
       "      <th>RaceEthnicity</th>\n",
       "      <th></th>\n",
       "    </tr>\n",
       "  </thead>\n",
       "  <tbody>\n",
       "    <tr>\n",
       "      <th>Other</th>\n",
       "      <td>0.0</td>\n",
       "    </tr>\n",
       "  </tbody>\n",
       "</table>\n",
       "</div>"
      ],
      "text/plain": [
       "0             count\n",
       "RaceEthnicity      \n",
       "Other           0.0"
      ]
     },
     "execution_count": 42,
     "metadata": {},
     "output_type": "execute_result"
    }
   ],
   "source": [
    "# Create an empty Other dataframe for later use\n",
    "dfOther = pd.DataFrame([['RaceEthnicity', 'count'], ['Other', 0.0]])\n",
    "dfOther.columns = dfOther.iloc[0] # Set first row as header\n",
    "dfOther = dfOther[1:].set_index('RaceEthnicity') # Set first column as index\n",
    "dfOther"
   ]
  },
  {
   "cell_type": "markdown",
   "id": "ea3bc083",
   "metadata": {},
   "source": [
    "<a name=\"AnalyseRace\"></a>\n",
    "## Analyse Race/Ethnicity data"
   ]
  },
  {
   "cell_type": "markdown",
   "id": "a11c38e9",
   "metadata": {},
   "source": [
    "### 2017"
   ]
  },
  {
   "cell_type": "code",
   "execution_count": 43,
   "id": "94011804",
   "metadata": {},
   "outputs": [
    {
     "data": {
      "image/png": "[encoded data removed]",
      "text/plain": [
       "<Figure size 720x360 with 1 Axes>"
      ]
     },
     "metadata": {
      "needs_background": "light"
     },
     "output_type": "display_data"
    },
    {
     "data": {
      "text/html": [
       "<div>\n",
       "<style scoped>\n",
       "    .dataframe tbody tr th:only-of-type {\n",
       "        vertical-align: middle;\n",
       "    }\n",
       "\n",
       "    .dataframe tbody tr th {\n",
       "        vertical-align: top;\n",
       "    }\n",
       "\n",
       "    .dataframe thead th {\n",
       "        text-align: right;\n",
       "    }\n",
       "</style>\n",
       "<table border=\"1\" class=\"dataframe\">\n",
       "  <thead>\n",
       "    <tr style=\"text-align: right;\">\n",
       "      <th></th>\n",
       "      <th>count</th>\n",
       "    </tr>\n",
       "    <tr>\n",
       "      <th>Race</th>\n",
       "      <th></th>\n",
       "    </tr>\n",
       "  </thead>\n",
       "  <tbody>\n",
       "    <tr>\n",
       "      <th>Black or of African descent</th>\n",
       "      <td>0.023805</td>\n",
       "    </tr>\n",
       "    <tr>\n",
       "      <th>East Asian</th>\n",
       "      <td>0.046632</td>\n",
       "    </tr>\n",
       "    <tr>\n",
       "      <th>Hispanic or Latino/Latina</th>\n",
       "      <td>0.053446</td>\n",
       "    </tr>\n",
       "    <tr>\n",
       "      <th>Indigenous (such as Native American, Pacific Islander, or Indigenous Australian)</th>\n",
       "      <td>0.008366</td>\n",
       "    </tr>\n",
       "    <tr>\n",
       "      <th>Middle Eastern</th>\n",
       "      <td>0.034011</td>\n",
       "    </tr>\n",
       "    <tr>\n",
       "      <th>Other</th>\n",
       "      <td>0.043815</td>\n",
       "    </tr>\n",
       "    <tr>\n",
       "      <th>South Asian</th>\n",
       "      <td>0.083259</td>\n",
       "    </tr>\n",
       "    <tr>\n",
       "      <th>White or of European descent</th>\n",
       "      <td>0.706667</td>\n",
       "    </tr>\n",
       "  </tbody>\n",
       "</table>\n",
       "</div>"
      ],
      "text/plain": [
       "                                                       count\n",
       "Race                                                        \n",
       "Black or of African descent                         0.023805\n",
       "East Asian                                          0.046632\n",
       "Hispanic or Latino/Latina                           0.053446\n",
       "Indigenous (such as Native American, Pacific Is...  0.008366\n",
       "Middle Eastern                                      0.034011\n",
       "Other                                               0.043815\n",
       "South Asian                                         0.083259\n",
       "White or of European descent                        0.706667"
      ]
     },
     "execution_count": 43,
     "metadata": {},
     "output_type": "execute_result"
    }
   ],
   "source": [
    "poss_vals = get_possible_values(df2017, 'Race')\n",
    "props_df2017 = clean_and_plot(df2017, column_name = 'Race', possible_values = poss_vals)\n",
    "props_df2017.rename({'I don’t know': 'Other', 'I prefer not to say': 'Other'}, inplace = True)\n",
    "props_df2017.rename({'Native American, Pacific Islander, or Indigenous Australian' : 'Indigenous (such as Native American, Pacific Islander, or Indigenous Australian)'}, inplace = True)\n",
    "props_df2017 = props_df2017.groupby(['Race'], as_index=True).agg('sum')\n",
    "props_df2017"
   ]
  },
  {
   "cell_type": "markdown",
   "id": "f9ea9ded",
   "metadata": {},
   "source": [
    "### 2018"
   ]
  },
  {
   "cell_type": "code",
   "execution_count": 44,
   "id": "6cbeed54",
   "metadata": {},
   "outputs": [
    {
     "data": {
      "image/png": "[encoded data removed]",
      "text/plain": [
       "<Figure size 720x360 with 1 Axes>"
      ]
     },
     "metadata": {
      "needs_background": "light"
     },
     "output_type": "display_data"
    },
    {
     "data": {
      "text/html": [
       "<div>\n",
       "<style scoped>\n",
       "    .dataframe tbody tr th:only-of-type {\n",
       "        vertical-align: middle;\n",
       "    }\n",
       "\n",
       "    .dataframe tbody tr th {\n",
       "        vertical-align: top;\n",
       "    }\n",
       "\n",
       "    .dataframe thead th {\n",
       "        text-align: right;\n",
       "    }\n",
       "</style>\n",
       "<table border=\"1\" class=\"dataframe\">\n",
       "  <thead>\n",
       "    <tr style=\"text-align: right;\">\n",
       "      <th></th>\n",
       "      <th>count</th>\n",
       "    </tr>\n",
       "    <tr>\n",
       "      <th>RaceEthnicity</th>\n",
       "      <th></th>\n",
       "    </tr>\n",
       "  </thead>\n",
       "  <tbody>\n",
       "    <tr>\n",
       "      <th>Black or of African descent</th>\n",
       "      <td>0.026212</td>\n",
       "    </tr>\n",
       "    <tr>\n",
       "      <th>East Asian</th>\n",
       "      <td>0.048505</td>\n",
       "    </tr>\n",
       "    <tr>\n",
       "      <th>Hispanic or Latino/Latina</th>\n",
       "      <td>0.063835</td>\n",
       "    </tr>\n",
       "    <tr>\n",
       "      <th>Indigenous (such as Native American, Pacific Islander, or Indigenous Australian)</th>\n",
       "      <td>0.007359</td>\n",
       "    </tr>\n",
       "    <tr>\n",
       "      <th>Middle Eastern</th>\n",
       "      <td>0.039244</td>\n",
       "    </tr>\n",
       "    <tr>\n",
       "      <th>Other</th>\n",
       "      <td>0.000000</td>\n",
       "    </tr>\n",
       "    <tr>\n",
       "      <th>South Asian</th>\n",
       "      <td>0.109744</td>\n",
       "    </tr>\n",
       "    <tr>\n",
       "      <th>White or of European descent</th>\n",
       "      <td>0.705100</td>\n",
       "    </tr>\n",
       "  </tbody>\n",
       "</table>\n",
       "</div>"
      ],
      "text/plain": [
       "                                                       count\n",
       "RaceEthnicity                                               \n",
       "Black or of African descent                         0.026212\n",
       "East Asian                                          0.048505\n",
       "Hispanic or Latino/Latina                           0.063835\n",
       "Indigenous (such as Native American, Pacific Is...  0.007359\n",
       "Middle Eastern                                      0.039244\n",
       "Other                                               0.000000\n",
       "South Asian                                         0.109744\n",
       "White or of European descent                        0.705100"
      ]
     },
     "execution_count": 44,
     "metadata": {},
     "output_type": "execute_result"
    }
   ],
   "source": [
    "poss_vals = get_possible_values(df2018, 'RaceEthnicity')\n",
    "props_df2018 = clean_and_plot(df2018, column_name = 'RaceEthnicity', possible_values = poss_vals)\n",
    "props_df2018.rename({'Native American, Pacific Islander, or Indigenous Australian' : 'Indigenous (such as Native American, Pacific Islander, or Indigenous Australian)'}, inplace = True)\n",
    "props_df2018 = pd.concat([props_df2018, dfOther]) # Add an empty Other column\n",
    "props_df2018 = props_df2018.groupby(['RaceEthnicity'], as_index=True).agg('sum')\n",
    "props_df2018"
   ]
  },
  {
   "cell_type": "code",
   "execution_count": 45,
   "id": "c254c608",
   "metadata": {},
   "outputs": [
    {
     "data": {
      "text/plain": [
       "array([ True,  True,  True,  True,  True,  True,  True,  True])"
      ]
     },
     "execution_count": 45,
     "metadata": {},
     "output_type": "execute_result"
    }
   ],
   "source": [
    "props_df2018.index == props_df2017.index # Double check that each year now has the same categories"
   ]
  },
  {
   "cell_type": "markdown",
   "id": "00b2348b",
   "metadata": {},
   "source": [
    "### 2019"
   ]
  },
  {
   "cell_type": "code",
   "execution_count": 46,
   "id": "5236b263",
   "metadata": {},
   "outputs": [
    {
     "data": {
      "image/png": "[encoded data removed]",
      "text/plain": [
       "<Figure size 720x360 with 1 Axes>"
      ]
     },
     "metadata": {
      "needs_background": "light"
     },
     "output_type": "display_data"
    },
    {
     "data": {
      "text/html": [
       "<div>\n",
       "<style scoped>\n",
       "    .dataframe tbody tr th:only-of-type {\n",
       "        vertical-align: middle;\n",
       "    }\n",
       "\n",
       "    .dataframe tbody tr th {\n",
       "        vertical-align: top;\n",
       "    }\n",
       "\n",
       "    .dataframe thead th {\n",
       "        text-align: right;\n",
       "    }\n",
       "</style>\n",
       "<table border=\"1\" class=\"dataframe\">\n",
       "  <thead>\n",
       "    <tr style=\"text-align: right;\">\n",
       "      <th></th>\n",
       "      <th>count</th>\n",
       "    </tr>\n",
       "    <tr>\n",
       "      <th>Ethnicity</th>\n",
       "      <th></th>\n",
       "    </tr>\n",
       "  </thead>\n",
       "  <tbody>\n",
       "    <tr>\n",
       "      <th>Black or of African descent</th>\n",
       "      <td>0.033343</td>\n",
       "    </tr>\n",
       "    <tr>\n",
       "      <th>East Asian</th>\n",
       "      <td>0.053962</td>\n",
       "    </tr>\n",
       "    <tr>\n",
       "      <th>Hispanic or Latino/Latina</th>\n",
       "      <td>0.065713</td>\n",
       "    </tr>\n",
       "    <tr>\n",
       "      <th>Indigenous (such as Native American, Pacific Islander, or Indigenous Australian)</th>\n",
       "      <td>0.007474</td>\n",
       "    </tr>\n",
       "    <tr>\n",
       "      <th>Middle Eastern</th>\n",
       "      <td>0.043485</td>\n",
       "    </tr>\n",
       "    <tr>\n",
       "      <th>Other</th>\n",
       "      <td>0.033872</td>\n",
       "    </tr>\n",
       "    <tr>\n",
       "      <th>South Asian</th>\n",
       "      <td>0.109895</td>\n",
       "    </tr>\n",
       "    <tr>\n",
       "      <th>White or of European descent</th>\n",
       "      <td>0.652256</td>\n",
       "    </tr>\n",
       "  </tbody>\n",
       "</table>\n",
       "</div>"
      ],
      "text/plain": [
       "                                                       count\n",
       "Ethnicity                                                   \n",
       "Black or of African descent                         0.033343\n",
       "East Asian                                          0.053962\n",
       "Hispanic or Latino/Latina                           0.065713\n",
       "Indigenous (such as Native American, Pacific Is...  0.007474\n",
       "Middle Eastern                                      0.043485\n",
       "Other                                               0.033872\n",
       "South Asian                                         0.109895\n",
       "White or of European descent                        0.652256"
      ]
     },
     "execution_count": 46,
     "metadata": {},
     "output_type": "execute_result"
    }
   ],
   "source": [
    "poss_vals = get_possible_values(df2019, 'Ethnicity')\n",
    "props_df2019 = clean_and_plot(df2019, column_name = 'Ethnicity', possible_values = poss_vals)\n",
    "props_df2019.rename({'Native American, Pacific Islander, or Indigenous Australian' : 'Indigenous (such as Native American, Pacific Islander, or Indigenous Australian)'}, inplace = True)\n",
    "props_df2019.rename({'Biracial': 'Other', 'Multiracial': 'Other'}, inplace = True)\n",
    "props_df2019 = props_df2019.groupby(['Ethnicity'], as_index=True).agg('sum')\n",
    "props_df2019"
   ]
  },
  {
   "cell_type": "code",
   "execution_count": 47,
   "id": "4130429b",
   "metadata": {},
   "outputs": [
    {
     "data": {
      "text/plain": [
       "array([ True,  True,  True,  True,  True,  True,  True,  True])"
      ]
     },
     "execution_count": 47,
     "metadata": {},
     "output_type": "execute_result"
    }
   ],
   "source": [
    "props_df2019.index == props_df2018.index # Double check that each year now has the same categories"
   ]
  },
  {
   "cell_type": "markdown",
   "id": "b8c2d7cd",
   "metadata": {},
   "source": [
    "### 2020"
   ]
  },
  {
   "cell_type": "code",
   "execution_count": 48,
   "id": "6672cd43",
   "metadata": {},
   "outputs": [
    {
     "data": {
      "image/png": "[encoded data removed]",
      "text/plain": [
       "<Figure size 720x360 with 1 Axes>"
      ]
     },
     "metadata": {
      "needs_background": "light"
     },
     "output_type": "display_data"
    },
    {
     "data": {
      "text/html": [
       "<div>\n",
       "<style scoped>\n",
       "    .dataframe tbody tr th:only-of-type {\n",
       "        vertical-align: middle;\n",
       "    }\n",
       "\n",
       "    .dataframe tbody tr th {\n",
       "        vertical-align: top;\n",
       "    }\n",
       "\n",
       "    .dataframe thead th {\n",
       "        text-align: right;\n",
       "    }\n",
       "</style>\n",
       "<table border=\"1\" class=\"dataframe\">\n",
       "  <thead>\n",
       "    <tr style=\"text-align: right;\">\n",
       "      <th></th>\n",
       "      <th>count</th>\n",
       "    </tr>\n",
       "    <tr>\n",
       "      <th>Ethnicity</th>\n",
       "      <th></th>\n",
       "    </tr>\n",
       "  </thead>\n",
       "  <tbody>\n",
       "    <tr>\n",
       "      <th>Black or of African descent</th>\n",
       "      <td>0.041333</td>\n",
       "    </tr>\n",
       "    <tr>\n",
       "      <th>East Asian</th>\n",
       "      <td>0.042536</td>\n",
       "    </tr>\n",
       "    <tr>\n",
       "      <th>Hispanic or Latino/Latina</th>\n",
       "      <td>0.069838</td>\n",
       "    </tr>\n",
       "    <tr>\n",
       "      <th>Indigenous (such as Native American, Pacific Islander, or Indigenous Australian)</th>\n",
       "      <td>0.007677</td>\n",
       "    </tr>\n",
       "    <tr>\n",
       "      <th>Middle Eastern</th>\n",
       "      <td>0.045543</td>\n",
       "    </tr>\n",
       "    <tr>\n",
       "      <th>Other</th>\n",
       "      <td>0.068495</td>\n",
       "    </tr>\n",
       "    <tr>\n",
       "      <th>South Asian</th>\n",
       "      <td>0.095556</td>\n",
       "    </tr>\n",
       "    <tr>\n",
       "      <th>White or of European descent</th>\n",
       "      <td>0.629022</td>\n",
       "    </tr>\n",
       "  </tbody>\n",
       "</table>\n",
       "</div>"
      ],
      "text/plain": [
       "                                                       count\n",
       "Ethnicity                                                   \n",
       "Black or of African descent                         0.041333\n",
       "East Asian                                          0.042536\n",
       "Hispanic or Latino/Latina                           0.069838\n",
       "Indigenous (such as Native American, Pacific Is...  0.007677\n",
       "Middle Eastern                                      0.045543\n",
       "Other                                               0.068495\n",
       "South Asian                                         0.095556\n",
       "White or of European descent                        0.629022"
      ]
     },
     "execution_count": 48,
     "metadata": {},
     "output_type": "execute_result"
    }
   ],
   "source": [
    "poss_vals = get_possible_values(df2020, 'Ethnicity')\n",
    "props_df2020 = clean_and_plot(df2020, column_name = 'Ethnicity', possible_values = poss_vals)\n",
    "props_df2020.rename({'Biracial': 'Other', 'Multiracial': 'Other', 'Southeast Asian': 'Other', 'Hispanic or Latino/a/x' : 'Hispanic or Latino/Latina'}, inplace = True)\n",
    "props_df2020 = props_df2020.groupby(['Ethnicity'], as_index=True).agg('sum')\n",
    "props_df2020"
   ]
  },
  {
   "cell_type": "markdown",
   "id": "7c6b401b",
   "metadata": {},
   "source": [
    "### 2021"
   ]
  },
  {
   "cell_type": "code",
   "execution_count": 49,
   "id": "2076bd46",
   "metadata": {},
   "outputs": [
    {
     "data": {
      "text/plain": [
       "array([ True,  True,  True,  True,  True,  True,  True,  True])"
      ]
     },
     "execution_count": 49,
     "metadata": {},
     "output_type": "execute_result"
    }
   ],
   "source": [
    "props_df2020.index == props_df2019.index # Double check that each year now has the same categories"
   ]
  },
  {
   "cell_type": "code",
   "execution_count": 50,
   "id": "a7f94e9a",
   "metadata": {},
   "outputs": [
    {
     "data": {
      "image/png": "[encoded data removed]",
      "text/plain": [
       "<Figure size 720x360 with 1 Axes>"
      ]
     },
     "metadata": {
      "needs_background": "light"
     },
     "output_type": "display_data"
    },
    {
     "data": {
      "text/html": [
       "<div>\n",
       "<style scoped>\n",
       "    .dataframe tbody tr th:only-of-type {\n",
       "        vertical-align: middle;\n",
       "    }\n",
       "\n",
       "    .dataframe tbody tr th {\n",
       "        vertical-align: top;\n",
       "    }\n",
       "\n",
       "    .dataframe thead th {\n",
       "        text-align: right;\n",
       "    }\n",
       "</style>\n",
       "<table border=\"1\" class=\"dataframe\">\n",
       "  <thead>\n",
       "    <tr style=\"text-align: right;\">\n",
       "      <th></th>\n",
       "      <th>count</th>\n",
       "    </tr>\n",
       "    <tr>\n",
       "      <th>Ethnicity</th>\n",
       "      <th></th>\n",
       "    </tr>\n",
       "  </thead>\n",
       "  <tbody>\n",
       "    <tr>\n",
       "      <th>Black or of African descent</th>\n",
       "      <td>0.030719</td>\n",
       "    </tr>\n",
       "    <tr>\n",
       "      <th>East Asian</th>\n",
       "      <td>0.042716</td>\n",
       "    </tr>\n",
       "    <tr>\n",
       "      <th>Hispanic or Latino/Latina</th>\n",
       "      <td>0.063703</td>\n",
       "    </tr>\n",
       "    <tr>\n",
       "      <th>Indigenous (such as Native American, Pacific Islander, or Indigenous Australian)</th>\n",
       "      <td>0.006576</td>\n",
       "    </tr>\n",
       "    <tr>\n",
       "      <th>Middle Eastern</th>\n",
       "      <td>0.048286</td>\n",
       "    </tr>\n",
       "    <tr>\n",
       "      <th>Other</th>\n",
       "      <td>0.171564</td>\n",
       "    </tr>\n",
       "    <tr>\n",
       "      <th>South Asian</th>\n",
       "      <td>0.105379</td>\n",
       "    </tr>\n",
       "    <tr>\n",
       "      <th>White or of European descent</th>\n",
       "      <td>0.531057</td>\n",
       "    </tr>\n",
       "  </tbody>\n",
       "</table>\n",
       "</div>"
      ],
      "text/plain": [
       "                                                       count\n",
       "Ethnicity                                                   \n",
       "Black or of African descent                         0.030719\n",
       "East Asian                                          0.042716\n",
       "Hispanic or Latino/Latina                           0.063703\n",
       "Indigenous (such as Native American, Pacific Is...  0.006576\n",
       "Middle Eastern                                      0.048286\n",
       "Other                                               0.171564\n",
       "South Asian                                         0.105379\n",
       "White or of European descent                        0.531057"
      ]
     },
     "execution_count": 50,
     "metadata": {},
     "output_type": "execute_result"
    }
   ],
   "source": [
    "poss_vals = get_possible_values(df2021, 'Ethnicity')\n",
    "props_df2021 = clean_and_plot(df2021, column_name = 'Ethnicity', possible_values = poss_vals)\n",
    "props_df2021.rename({'I don\\'t know': 'Other', 'Prefer not to say': 'Other', 'Or, in your own words:':'Other'}, inplace = True)\n",
    "props_df2021.rename({'Biracial': 'Other', 'Multiracial': 'Other', 'Southeast Asian': 'Other', 'Hispanic or Latino/a/x' : 'Hispanic or Latino/Latina'}, inplace = True)\n",
    "props_df2021 = props_df2021.groupby(['Ethnicity'], as_index=True).agg('sum')\n",
    "props_df2021"
   ]
  },
  {
   "cell_type": "code",
   "execution_count": 51,
   "id": "abfd9fdb",
   "metadata": {},
   "outputs": [
    {
     "data": {
      "text/plain": [
       "array([ True,  True,  True,  True,  True,  True,  True,  True])"
      ]
     },
     "execution_count": 51,
     "metadata": {},
     "output_type": "execute_result"
    }
   ],
   "source": [
    "props_df2021.index == props_df2020.index # Double check that each year now has the same categories"
   ]
  },
  {
   "cell_type": "markdown",
   "id": "f0721475",
   "metadata": {},
   "source": [
    "<a name=\"VisualiseRace\"></a>\n",
    "## Visualise Race/Ethnicity data"
   ]
  },
  {
   "cell_type": "code",
   "execution_count": 52,
   "id": "f2fcdb98",
   "metadata": {},
   "outputs": [],
   "source": [
    "props_df2017.rename(columns={\"count\": \"count2017\"}, inplace = True)\n",
    "props_df2018.rename(columns={\"count\": \"count2018\"}, inplace = True)\n",
    "props_df2019.rename(columns={\"count\": \"count2019\"}, inplace = True)\n",
    "props_df2020.rename(columns={\"count\": \"count2020\"}, inplace = True)\n",
    "props_df2021.rename(columns={\"count\": \"count2021\"}, inplace = True)"
   ]
  },
  {
   "cell_type": "code",
   "execution_count": 53,
   "id": "f6846cdb",
   "metadata": {},
   "outputs": [],
   "source": [
    "counts_df = props_df2017.join(props_df2018)\n",
    "counts_df = counts_df.join(props_df2019)\n",
    "counts_df = counts_df.join(props_df2020)\n",
    "counts_df = counts_df.join(props_df2021)"
   ]
  },
  {
   "cell_type": "code",
   "execution_count": 54,
   "id": "de4f2eff",
   "metadata": {},
   "outputs": [
    {
     "data": {
      "text/html": [
       "<div>\n",
       "<style scoped>\n",
       "    .dataframe tbody tr th:only-of-type {\n",
       "        vertical-align: middle;\n",
       "    }\n",
       "\n",
       "    .dataframe tbody tr th {\n",
       "        vertical-align: top;\n",
       "    }\n",
       "\n",
       "    .dataframe thead th {\n",
       "        text-align: right;\n",
       "    }\n",
       "</style>\n",
       "<table border=\"1\" class=\"dataframe\">\n",
       "  <thead>\n",
       "    <tr style=\"text-align: right;\">\n",
       "      <th></th>\n",
       "      <th>count2017</th>\n",
       "      <th>count2018</th>\n",
       "      <th>count2019</th>\n",
       "      <th>count2020</th>\n",
       "      <th>count2021</th>\n",
       "    </tr>\n",
       "    <tr>\n",
       "      <th>Race</th>\n",
       "      <th></th>\n",
       "      <th></th>\n",
       "      <th></th>\n",
       "      <th></th>\n",
       "      <th></th>\n",
       "    </tr>\n",
       "  </thead>\n",
       "  <tbody>\n",
       "    <tr>\n",
       "      <th>Black or of African descent</th>\n",
       "      <td>0.023805</td>\n",
       "      <td>0.026212</td>\n",
       "      <td>0.033343</td>\n",
       "      <td>0.041333</td>\n",
       "      <td>0.030719</td>\n",
       "    </tr>\n",
       "    <tr>\n",
       "      <th>East Asian</th>\n",
       "      <td>0.046632</td>\n",
       "      <td>0.048505</td>\n",
       "      <td>0.053962</td>\n",
       "      <td>0.042536</td>\n",
       "      <td>0.042716</td>\n",
       "    </tr>\n",
       "    <tr>\n",
       "      <th>Hispanic or Latino/Latina</th>\n",
       "      <td>0.053446</td>\n",
       "      <td>0.063835</td>\n",
       "      <td>0.065713</td>\n",
       "      <td>0.069838</td>\n",
       "      <td>0.063703</td>\n",
       "    </tr>\n",
       "    <tr>\n",
       "      <th>Indigenous (such as Native American, Pacific Islander, or Indigenous Australian)</th>\n",
       "      <td>0.008366</td>\n",
       "      <td>0.007359</td>\n",
       "      <td>0.007474</td>\n",
       "      <td>0.007677</td>\n",
       "      <td>0.006576</td>\n",
       "    </tr>\n",
       "    <tr>\n",
       "      <th>Middle Eastern</th>\n",
       "      <td>0.034011</td>\n",
       "      <td>0.039244</td>\n",
       "      <td>0.043485</td>\n",
       "      <td>0.045543</td>\n",
       "      <td>0.048286</td>\n",
       "    </tr>\n",
       "    <tr>\n",
       "      <th>Other</th>\n",
       "      <td>0.043815</td>\n",
       "      <td>0.000000</td>\n",
       "      <td>0.033872</td>\n",
       "      <td>0.068495</td>\n",
       "      <td>0.171564</td>\n",
       "    </tr>\n",
       "    <tr>\n",
       "      <th>South Asian</th>\n",
       "      <td>0.083259</td>\n",
       "      <td>0.109744</td>\n",
       "      <td>0.109895</td>\n",
       "      <td>0.095556</td>\n",
       "      <td>0.105379</td>\n",
       "    </tr>\n",
       "    <tr>\n",
       "      <th>White or of European descent</th>\n",
       "      <td>0.706667</td>\n",
       "      <td>0.705100</td>\n",
       "      <td>0.652256</td>\n",
       "      <td>0.629022</td>\n",
       "      <td>0.531057</td>\n",
       "    </tr>\n",
       "  </tbody>\n",
       "</table>\n",
       "</div>"
      ],
      "text/plain": [
       "                                                    count2017  count2018  \\\n",
       "Race                                                                       \n",
       "Black or of African descent                          0.023805   0.026212   \n",
       "East Asian                                           0.046632   0.048505   \n",
       "Hispanic or Latino/Latina                            0.053446   0.063835   \n",
       "Indigenous (such as Native American, Pacific Is...   0.008366   0.007359   \n",
       "Middle Eastern                                       0.034011   0.039244   \n",
       "Other                                                0.043815   0.000000   \n",
       "South Asian                                          0.083259   0.109744   \n",
       "White or of European descent                         0.706667   0.705100   \n",
       "\n",
       "                                                    count2019  count2020  \\\n",
       "Race                                                                       \n",
       "Black or of African descent                          0.033343   0.041333   \n",
       "East Asian                                           0.053962   0.042536   \n",
       "Hispanic or Latino/Latina                            0.065713   0.069838   \n",
       "Indigenous (such as Native American, Pacific Is...   0.007474   0.007677   \n",
       "Middle Eastern                                       0.043485   0.045543   \n",
       "Other                                                0.033872   0.068495   \n",
       "South Asian                                          0.109895   0.095556   \n",
       "White or of European descent                         0.652256   0.629022   \n",
       "\n",
       "                                                    count2021  \n",
       "Race                                                           \n",
       "Black or of African descent                          0.030719  \n",
       "East Asian                                           0.042716  \n",
       "Hispanic or Latino/Latina                            0.063703  \n",
       "Indigenous (such as Native American, Pacific Is...   0.006576  \n",
       "Middle Eastern                                       0.048286  \n",
       "Other                                                0.171564  \n",
       "South Asian                                          0.105379  \n",
       "White or of European descent                         0.531057  "
      ]
     },
     "execution_count": 54,
     "metadata": {},
     "output_type": "execute_result"
    }
   ],
   "source": [
    "counts_df"
   ]
  },
  {
   "cell_type": "code",
   "execution_count": 55,
   "id": "f143c31c",
   "metadata": {},
   "outputs": [],
   "source": [
    "### Make a publication-quality plot for Race"
   ]
  },
  {
   "cell_type": "code",
   "execution_count": 56,
   "id": "bc47775a",
   "metadata": {},
   "outputs": [
    {
     "data": {
      "image/png": "[encoded data removed]",
      "text/html": [
       "<div style=\"vertical-align: middle;\"><strong>special_palette</strong> </div><div class=\"cmap\"><img alt=\"special_palette colormap\" title=\"special_palette\" style=\"border: 1px solid #555;\" src=\"data:image/png;base64,iVBORw0KGgoAAAANSUhEUgAAAgAAAABACAYAAABsv8+/AAAAHnRFWHRUaXRsZQBzcGVjaWFsX3BhbGV0dGUgY29sb3JtYXCbRfdEAAAAJHRFWHREZXNjcmlwdGlvbgBzcGVjaWFsX3BhbGV0dGUgY29sb3JtYXBR+R4rAAAAMHRFWHRBdXRob3IATWF0cGxvdGxpYiB2My40LjIsIGh0dHBzOi8vbWF0cGxvdGxpYi5vcmes1mPdAAAAMnRFWHRTb2Z0d2FyZQBNYXRwbG90bGliIHYzLjQuMiwgaHR0cHM6Ly9tYXRwbG90bGliLm9yZ4Jw/PoAAAFLSURBVHic7daxCcJQAABRtQzu4f6bWFkIaYWAnQMkC3xbv3DvTXDlnff3bT/xn9bX7AJGnp/ZBQxs9+vsBAa2xzI7gS8uswMAgN8zAAAQZAAAIMgAAECQAQCAIAMAAEEGAACCDAAABBkAAAgyAAAQZAAAIMgAAECQAQCAIAMAAEEGAACCDAAABBkAAAgyAAAQZAAAIMgAAECQAQCAIAMAAEEGAACCDAAABBkAAAgyAAAQZAAAIMgAAECQAQCAIAMAAEEGAACCDAAABBkAAAgyAAAQZAAAIMgAAECQAQCAIAMAAEEGAACCDAAABBkAAAgyAAAQZAAAIMgAAECQAQCAIAMAAEEGAACCDAAABBkAAAgyAAAQZAAAIMgAAECQAQCAIAMAAEEGAACCDAAABBkAAAgyAAAQZAAAIMgAAECQAQCAIAMAAEEGAACCDj4QCq+2+jA1AAAAAElFTkSuQmCC\"></div><div style=\"vertical-align: middle; max-width: 514px; display: flex; justify-content: space-between;\"><div style=\"float: left;\"><div title=\"#ffec27ff\" style=\"display: inline-block; width: 1em; height: 1em; margin: 0; vertical-align: middle; border: 1px solid #555; background-color: #ffec27ff;\"></div> under</div><div style=\"margin: 0 auto; display: inline-block;\">bad <div title=\"#00000000\" style=\"display: inline-block; width: 1em; height: 1em; margin: 0; vertical-align: middle; border: 1px solid #555; background-color: #00000000;\"></div></div><div style=\"float: right;\">over <div title=\"#d14916ff\" style=\"display: inline-block; width: 1em; height: 1em; margin: 0; vertical-align: middle; border: 1px solid #555; background-color: #d14916ff;\"></div></div>"
      ],
      "text/plain": [
       "<matplotlib.colors.ListedColormap at 0x149850a7730>"
      ]
     },
     "execution_count": 56,
     "metadata": {},
     "output_type": "execute_result"
    }
   ],
   "source": [
    "counts_df_to_plot = counts_df[['count2021', 'count2020', 'count2019', 'count2018', 'count2017']]\n",
    "counts_df_to_plot = counts_df_to_plot.rename(columns = {'count2021':'2021', 'count2020':'2020', 'count2019':'2019', 'count2018':'2018', 'count2017':'2017'})\n",
    "counts_df_to_plot.rename({'Indigenous (such as Native American, Pacific Islander, or Indigenous Australian)': 'Indigenous'}, inplace = True)\n",
    "special_palette = ListedColormap(newcolors[::], name='special_palette')\n",
    "special_palette # Reversing the colors because I want to present 2021 first"
   ]
  },
  {
   "cell_type": "code",
   "execution_count": 57,
   "id": "9a226918",
   "metadata": {},
   "outputs": [],
   "source": [
    "import matplotlib.pyplot as plt\n",
    "plt.rcParams[\"font.family\"] = \"serif\""
   ]
  },
  {
   "cell_type": "code",
   "execution_count": 58,
   "id": "9bb80dc6",
   "metadata": {},
   "outputs": [
    {
     "data": {
      "image/png": "[encoded data removed]",
      "text/plain": [
       "<Figure size 576x432 with 1 Axes>"
      ]
     },
     "metadata": {
      "needs_background": "light"
     },
     "output_type": "display_data"
    }
   ],
   "source": [
    "counts_df_to_plot.plot(kind='barh', figsize = ((8,6)), colormap = gold_palette_reversed);\n",
    "fontsize = 14\n",
    "plt.legend(fontsize = fontsize)\n",
    "plt.ylabel('Race/Ethnicity', labelpad = 20, fontsize = fontsize)\n",
    "plt.xlabel('Proportion', labelpad = 20, fontsize = fontsize)\n",
    "plt.yticks(fontsize = fontsize, rotation = 0)\n",
    "plt.xticks(fontsize = fontsize, rotation = 0)\n",
    "plt.title('Change in ethnic representation over time', fontsize = fontsize, pad = 20)\n",
    "plt.tight_layout()\n",
    "plt.savefig('Race-Ethnicity.png')\n",
    "plt.show()"
   ]
  },
  {
   "cell_type": "markdown",
   "id": "d1bbcad2",
   "metadata": {},
   "source": [
    "<a name=\"PopularProgrammingLanguages\"></a>"
   ]
  },
  {
   "cell_type": "markdown",
   "id": "5bf8030d",
   "metadata": {},
   "source": [
    "<a name=\"PopularProgrammingLanguages\"></a>"
   ]
  },
  {
   "cell_type": "markdown",
   "id": "04434590",
   "metadata": {},
   "source": [
    "**CRISP-DM 5. Evaluation (Race/Ethnicity)** \n",
    "\n",
    "There has been a drop from 71% dominance of \"White or of European descent\" in 2017 to only 53% dominance in 2021. \n",
    "\n",
    "The next biggest category is \"South Asian\" which has remainly relatively constant over they period.\n",
    "\n",
    "The \"Other\" category has increased in size in 2021."
   ]
  },
  {
   "cell_type": "markdown",
   "id": "69018ac5",
   "metadata": {},
   "source": [
    "<a name=\"PopularProgrammingLanguages\"></a>\n",
    "# Popular Programming Languages"
   ]
  },
  {
   "cell_type": "markdown",
   "id": "c21fcd20",
   "metadata": {},
   "source": [
    "3. Which programming languages have become more or less popular between 2017 – 2021?"
   ]
  },
  {
   "cell_type": "markdown",
   "id": "26dca946",
   "metadata": {},
   "source": [
    "<a name=\"CleanLanguages\"></a>\n",
    "## Clean Languages data"
   ]
  },
  {
   "cell_type": "code",
   "execution_count": 59,
   "id": "f756947a",
   "metadata": {},
   "outputs": [
    {
     "name": "stdout",
     "output_type": "stream",
     "text": [
      "From 51392 rows 17621 rows containing null values were dropped, leaving 33771 rows.\n",
      "From 98855 rows 25611 rows containing null values were dropped, leaving 73244 rows.\n",
      "From 88883 rows 4795 rows containing null values were dropped, leaving 84088 rows.\n",
      "From 64461 rows 10348 rows containing null values were dropped, leaving 54113 rows.\n",
      "From 83439 rows 6618 rows containing null values were dropped, leaving 76821 rows.\n"
     ]
    }
   ],
   "source": [
    "# Subset the data to only the columns we are analysing\n",
    "df2017 = drop_empty_rows(all_data[0][['WantWorkLanguage']])\n",
    "df2018 = drop_empty_rows(all_data[1][['LanguageDesireNextYear']])\n",
    "df2019 = drop_empty_rows(all_data[2][['LanguageDesireNextYear']])\n",
    "df2020 = drop_empty_rows(all_data[3][['LanguageDesireNextYear']])\n",
    "df2021 = drop_empty_rows(all_data[4][['LanguageWantToWorkWith']])"
   ]
  },
  {
   "cell_type": "code",
   "execution_count": 60,
   "id": "a671f170",
   "metadata": {},
   "outputs": [],
   "source": [
    "# Look at each year individually, and then combine."
   ]
  },
  {
   "cell_type": "markdown",
   "id": "de74947b",
   "metadata": {},
   "source": [
    "<a name=\"AnalyseLanguages\"></a>\n",
    "## Analyse Languages data"
   ]
  },
  {
   "cell_type": "markdown",
   "id": "976c9a6d",
   "metadata": {},
   "source": [
    "### 2017"
   ]
  },
  {
   "cell_type": "code",
   "execution_count": 61,
   "id": "d6b5bf8b",
   "metadata": {},
   "outputs": [
    {
     "data": {
      "image/png": "[encoded data removed]",
      "text/plain": [
       "<Figure size 720x360 with 1 Axes>"
      ]
     },
     "metadata": {
      "needs_background": "light"
     },
     "output_type": "display_data"
    }
   ],
   "source": [
    "possible_values = get_possible_values(df2017, 'WantWorkLanguage')\n",
    "props_df2017 = clean_and_plot(df2017, column_name = 'WantWorkLanguage', possible_values = possible_values)"
   ]
  },
  {
   "cell_type": "markdown",
   "id": "d54f18bb",
   "metadata": {},
   "source": [
    "### 2018"
   ]
  },
  {
   "cell_type": "code",
   "execution_count": 62,
   "id": "5c35cc2a",
   "metadata": {},
   "outputs": [
    {
     "data": {
      "image/png": "[encoded data removed]",
      "text/plain": [
       "<Figure size 720x360 with 1 Axes>"
      ]
     },
     "metadata": {
      "needs_background": "light"
     },
     "output_type": "display_data"
    }
   ],
   "source": [
    "possible_values = get_possible_values(df2018, 'LanguageDesireNextYear')\n",
    "props_df2018 = clean_and_plot(df2018, column_name = 'LanguageDesireNextYear', possible_values = possible_values)"
   ]
  },
  {
   "cell_type": "markdown",
   "id": "d12e94c6",
   "metadata": {},
   "source": [
    "### 2019"
   ]
  },
  {
   "cell_type": "code",
   "execution_count": 63,
   "id": "dab10837",
   "metadata": {},
   "outputs": [
    {
     "data": {
      "image/png": "[encoded data removed]",
      "text/plain": [
       "<Figure size 720x360 with 1 Axes>"
      ]
     },
     "metadata": {
      "needs_background": "light"
     },
     "output_type": "display_data"
    }
   ],
   "source": [
    "possible_values = get_possible_values(df2019, 'LanguageDesireNextYear')\n",
    "props_df2019 = clean_and_plot(df2019, column_name = 'LanguageDesireNextYear', possible_values = possible_values)"
   ]
  },
  {
   "cell_type": "markdown",
   "id": "5bd797fb",
   "metadata": {},
   "source": [
    "### 2020"
   ]
  },
  {
   "cell_type": "code",
   "execution_count": 64,
   "id": "989f6384",
   "metadata": {},
   "outputs": [
    {
     "data": {
      "image/png": "[encoded data removed]",
      "text/plain": [
       "<Figure size 720x360 with 1 Axes>"
      ]
     },
     "metadata": {
      "needs_background": "light"
     },
     "output_type": "display_data"
    }
   ],
   "source": [
    "possible_values = get_possible_values(df2020, 'LanguageDesireNextYear')\n",
    "props_df2020 = clean_and_plot(df2020, column_name = 'LanguageDesireNextYear', possible_values = possible_values)"
   ]
  },
  {
   "cell_type": "markdown",
   "id": "b864ce48",
   "metadata": {},
   "source": [
    "### 2021"
   ]
  },
  {
   "cell_type": "code",
   "execution_count": 65,
   "id": "e335726c",
   "metadata": {},
   "outputs": [
    {
     "data": {
      "image/png": "[encoded data removed]",
      "text/plain": [
       "<Figure size 720x360 with 1 Axes>"
      ]
     },
     "metadata": {
      "needs_background": "light"
     },
     "output_type": "display_data"
    }
   ],
   "source": [
    "possible_values = get_possible_values(df2021, 'LanguageWantToWorkWith')\n",
    "props_df2021 = clean_and_plot(df2021, column_name = 'LanguageWantToWorkWith', possible_values = possible_values)"
   ]
  },
  {
   "cell_type": "markdown",
   "id": "be621088",
   "metadata": {},
   "source": [
    "<a name=\"VisualiseLanguages\"></a>\n",
    "## Visualise Languages data"
   ]
  },
  {
   "cell_type": "code",
   "execution_count": 66,
   "id": "b9011808",
   "metadata": {},
   "outputs": [],
   "source": [
    "props_df2017.rename(columns={\"count\": \"2017\"}, inplace = True)\n",
    "props_df2018.rename(columns={\"count\": \"2018\"}, inplace = True)\n",
    "props_df2019.rename(columns={\"count\": \"2019\"}, inplace = True)\n",
    "props_df2020.rename(columns={\"count\": \"2020\"}, inplace = True)\n",
    "props_df2021.rename(columns={\"count\": \"2021\"}, inplace = True)"
   ]
  },
  {
   "cell_type": "code",
   "execution_count": 67,
   "id": "4ba9956a",
   "metadata": {},
   "outputs": [],
   "source": [
    "language_counts = props_df2017.join(props_df2018)\n",
    "language_counts = language_counts.join(props_df2019)\n",
    "language_counts = language_counts.join(props_df2020)\n",
    "language_counts = language_counts.join(props_df2021)"
   ]
  },
  {
   "cell_type": "code",
   "execution_count": 68,
   "id": "47d6f7ed",
   "metadata": {},
   "outputs": [
    {
     "data": {
      "image/png": "[encoded data removed]",
      "text/plain": [
       "<Figure size 720x360 with 1 Axes>"
      ]
     },
     "metadata": {
      "needs_background": "light"
     },
     "output_type": "display_data"
    }
   ],
   "source": [
    "language_counts.head(10).plot(kind='bar', figsize = ((10,5)));"
   ]
  },
  {
   "cell_type": "markdown",
   "id": "c581372d",
   "metadata": {},
   "source": [
    "### Make a publication-quality plot for popular programming languages"
   ]
  },
  {
   "cell_type": "code",
   "execution_count": 69,
   "id": "5e26fbcd",
   "metadata": {},
   "outputs": [
    {
     "data": {
      "image/png": "[encoded data removed]",
      "text/plain": [
       "<Figure size 720x360 with 1 Axes>"
      ]
     },
     "metadata": {
      "needs_background": "light"
     },
     "output_type": "display_data"
    }
   ],
   "source": [
    "language_counts.sort_values(by = '2017', axis=0, ascending = False).head(10).plot(kind='bar', figsize = ((10,5)), colormap = gold_palette);\n",
    "fontsize = 14\n",
    "plt.xlabel('Language that survey participants want to work with', labelpad = 20, fontsize = fontsize)\n",
    "plt.ylabel('Proportion of survey participants', labelpad = 20, fontsize = fontsize)\n",
    "#plt.title('Popular programming languages', fontsize = fontsize)\n",
    "plt.xticks(fontsize = fontsize); plt.yticks(fontsize = fontsize)\n",
    "plt.legend(fontsize = fontsize)\n",
    "plt.tight_layout()\n",
    "plt.savefig('Languages.png')\n",
    "plt.show()"
   ]
  },
  {
   "cell_type": "markdown",
   "id": "815f7e80",
   "metadata": {},
   "source": [
    "### Make a \"Top 10\" table for blogpost"
   ]
  },
  {
   "cell_type": "code",
   "execution_count": 70,
   "id": "1b99b087",
   "metadata": {},
   "outputs": [
    {
     "data": {
      "text/html": [
       "<div>\n",
       "<style scoped>\n",
       "    .dataframe tbody tr th:only-of-type {\n",
       "        vertical-align: middle;\n",
       "    }\n",
       "\n",
       "    .dataframe tbody tr th {\n",
       "        vertical-align: top;\n",
       "    }\n",
       "\n",
       "    .dataframe thead th {\n",
       "        text-align: right;\n",
       "    }\n",
       "</style>\n",
       "<table border=\"1\" class=\"dataframe\">\n",
       "  <thead>\n",
       "    <tr style=\"text-align: right;\">\n",
       "      <th></th>\n",
       "      <th>2017</th>\n",
       "      <th>2021</th>\n",
       "    </tr>\n",
       "  </thead>\n",
       "  <tbody>\n",
       "    <tr>\n",
       "      <th>1</th>\n",
       "      <td>Java</td>\n",
       "      <td>C</td>\n",
       "    </tr>\n",
       "    <tr>\n",
       "      <th>2</th>\n",
       "      <td>C</td>\n",
       "      <td>Java</td>\n",
       "    </tr>\n",
       "    <tr>\n",
       "      <th>3</th>\n",
       "      <td>JavaScript</td>\n",
       "      <td>JavaScript</td>\n",
       "    </tr>\n",
       "    <tr>\n",
       "      <th>4</th>\n",
       "      <td>Python</td>\n",
       "      <td>Python</td>\n",
       "    </tr>\n",
       "    <tr>\n",
       "      <th>5</th>\n",
       "      <td>SQL</td>\n",
       "      <td>TypeScript</td>\n",
       "    </tr>\n",
       "    <tr>\n",
       "      <th>6</th>\n",
       "      <td>C#</td>\n",
       "      <td>SQL</td>\n",
       "    </tr>\n",
       "    <tr>\n",
       "      <th>7</th>\n",
       "      <td>R</td>\n",
       "      <td>R</td>\n",
       "    </tr>\n",
       "    <tr>\n",
       "      <th>8</th>\n",
       "      <td>C++</td>\n",
       "      <td>C#</td>\n",
       "    </tr>\n",
       "    <tr>\n",
       "      <th>9</th>\n",
       "      <td>Go</td>\n",
       "      <td>Rust</td>\n",
       "    </tr>\n",
       "    <tr>\n",
       "      <th>10</th>\n",
       "      <td>TypeScript</td>\n",
       "      <td>Go</td>\n",
       "    </tr>\n",
       "  </tbody>\n",
       "</table>\n",
       "</div>"
      ],
      "text/plain": [
       "          2017        2021\n",
       "1         Java           C\n",
       "2            C        Java\n",
       "3   JavaScript  JavaScript\n",
       "4       Python      Python\n",
       "5          SQL  TypeScript\n",
       "6           C#         SQL\n",
       "7            R           R\n",
       "8          C++          C#\n",
       "9           Go        Rust\n",
       "10  TypeScript          Go"
      ]
     },
     "execution_count": 70,
     "metadata": {},
     "output_type": "execute_result"
    }
   ],
   "source": [
    "languages2017 = language_counts.sort_values(by = '2017', ascending = False)\n",
    "top10_in_2017 = languages2017.head(10).index\n",
    "languages2021 = language_counts.sort_values(by = '2021', ascending = False)\n",
    "top10_in_2021 = languages2021.head(10).index\n",
    "data = np.array([top10_in_2017.values, top10_in_2021.values]).transpose()\n",
    "df = pd.DataFrame(data, columns = ['2017', '2021'], index = np.arange(1, 11, 1))\n",
    "df"
   ]
  },
  {
   "cell_type": "code",
   "execution_count": 71,
   "id": "e1cc49bf",
   "metadata": {},
   "outputs": [
    {
     "data": {
      "text/html": [
       "<div>\n",
       "<style scoped>\n",
       "    .dataframe tbody tr th:only-of-type {\n",
       "        vertical-align: middle;\n",
       "    }\n",
       "\n",
       "    .dataframe tbody tr th {\n",
       "        vertical-align: top;\n",
       "    }\n",
       "\n",
       "    .dataframe thead th {\n",
       "        text-align: right;\n",
       "    }\n",
       "</style>\n",
       "<table border=\"1\" class=\"dataframe\">\n",
       "  <thead>\n",
       "    <tr style=\"text-align: right;\">\n",
       "      <th></th>\n",
       "      <th>2017</th>\n",
       "      <th>2018</th>\n",
       "      <th>2019</th>\n",
       "      <th>2020</th>\n",
       "      <th>2021</th>\n",
       "    </tr>\n",
       "    <tr>\n",
       "      <th>WantWorkLanguage</th>\n",
       "      <th></th>\n",
       "      <th></th>\n",
       "      <th></th>\n",
       "      <th></th>\n",
       "      <th></th>\n",
       "    </tr>\n",
       "  </thead>\n",
       "  <tbody>\n",
       "    <tr>\n",
       "      <th>Java</th>\n",
       "      <td>0.131235</td>\n",
       "      <td>0.102294</td>\n",
       "      <td>0.108215</td>\n",
       "      <td>0.106772</td>\n",
       "      <td>0.098033</td>\n",
       "    </tr>\n",
       "    <tr>\n",
       "      <th>C</th>\n",
       "      <td>0.119135</td>\n",
       "      <td>0.110624</td>\n",
       "      <td>0.117103</td>\n",
       "      <td>0.113427</td>\n",
       "      <td>0.110470</td>\n",
       "    </tr>\n",
       "    <tr>\n",
       "      <th>JavaScript</th>\n",
       "      <td>0.103326</td>\n",
       "      <td>0.082713</td>\n",
       "      <td>0.089886</td>\n",
       "      <td>0.088287</td>\n",
       "      <td>0.082402</td>\n",
       "    </tr>\n",
       "    <tr>\n",
       "      <th>Python</th>\n",
       "      <td>0.079550</td>\n",
       "      <td>0.070520</td>\n",
       "      <td>0.080376</td>\n",
       "      <td>0.089953</td>\n",
       "      <td>0.077773</td>\n",
       "    </tr>\n",
       "    <tr>\n",
       "      <th>SQL</th>\n",
       "      <td>0.070987</td>\n",
       "      <td>0.060233</td>\n",
       "      <td>0.067438</td>\n",
       "      <td>0.067325</td>\n",
       "      <td>0.059296</td>\n",
       "    </tr>\n",
       "    <tr>\n",
       "      <th>C#</th>\n",
       "      <td>0.064469</td>\n",
       "      <td>0.043908</td>\n",
       "      <td>0.045102</td>\n",
       "      <td>0.046099</td>\n",
       "      <td>0.040077</td>\n",
       "    </tr>\n",
       "    <tr>\n",
       "      <th>R</th>\n",
       "      <td>0.052603</td>\n",
       "      <td>0.042355</td>\n",
       "      <td>0.043186</td>\n",
       "      <td>0.056128</td>\n",
       "      <td>0.049764</td>\n",
       "    </tr>\n",
       "    <tr>\n",
       "      <th>C++</th>\n",
       "      <td>0.048394</td>\n",
       "      <td>0.032876</td>\n",
       "      <td>0.033866</td>\n",
       "      <td>0.032890</td>\n",
       "      <td>0.033953</td>\n",
       "    </tr>\n",
       "    <tr>\n",
       "      <th>Go</th>\n",
       "      <td>0.036516</td>\n",
       "      <td>0.033393</td>\n",
       "      <td>0.034275</td>\n",
       "      <td>0.042495</td>\n",
       "      <td>0.035154</td>\n",
       "    </tr>\n",
       "    <tr>\n",
       "      <th>TypeScript</th>\n",
       "      <td>0.036022</td>\n",
       "      <td>0.036332</td>\n",
       "      <td>0.047656</td>\n",
       "      <td>0.057817</td>\n",
       "      <td>0.059907</td>\n",
       "    </tr>\n",
       "  </tbody>\n",
       "</table>\n",
       "</div>"
      ],
      "text/plain": [
       "                      2017      2018      2019      2020      2021\n",
       "WantWorkLanguage                                                  \n",
       "Java              0.131235  0.102294  0.108215  0.106772  0.098033\n",
       "C                 0.119135  0.110624  0.117103  0.113427  0.110470\n",
       "JavaScript        0.103326  0.082713  0.089886  0.088287  0.082402\n",
       "Python            0.079550  0.070520  0.080376  0.089953  0.077773\n",
       "SQL               0.070987  0.060233  0.067438  0.067325  0.059296\n",
       "C#                0.064469  0.043908  0.045102  0.046099  0.040077\n",
       "R                 0.052603  0.042355  0.043186  0.056128  0.049764\n",
       "C++               0.048394  0.032876  0.033866  0.032890  0.033953\n",
       "Go                0.036516  0.033393  0.034275  0.042495  0.035154\n",
       "TypeScript        0.036022  0.036332  0.047656  0.057817  0.059907"
      ]
     },
     "execution_count": 71,
     "metadata": {},
     "output_type": "execute_result"
    }
   ],
   "source": [
    "language_counts.head(10)"
   ]
  },
  {
   "cell_type": "markdown",
   "id": "d9c0acb4",
   "metadata": {},
   "source": [
    "**CRISP-DM 5. Evaluation (Languages)** \n",
    "\n",
    "In 2017, Java was in number 1 position with 13% of developers wanting to use it; by 2021 it had dropped to number 2 position with the corresponding percentage dropping to 10%.\n",
    "\n",
    "The situation is reversed for C. In 2017, C was in number 2 position with 12% of developers wanting to use it; by 2021 it had risen to number 1 position with the corresponding percentage increasing to 11%.\n",
    "\n",
    "Note however that these two are really neck and neck, with only 1 percent point difference between them, which may not be statistically significant.\n",
    "\n",
    "JavaScript and Python remain in third and fourth positions throughout.\n"
   ]
  },
  {
   "cell_type": "markdown",
   "id": "bb32d835",
   "metadata": {},
   "source": [
    "**CRISP-DM 6. Deployment**\n",
    "\n",
    "The results found in our data analysis are communicated in a [medium.com blogpost](https://medium.com/@renju.s.mathew/the-stackoverflow-yearly-survey-a-treasure-trove-of-insight-938aa4ac46b3).\n",
    "\n",
    "In summary, the following three answers are described in that article:\n",
    "    \n",
    "1. In 2017, Java was the most popular programming language and C was in second place; in 2021, C and Java have swapped positions.\n",
    "2. The gender representation has remained almost the same over the five years, with a 91% male representation.\n",
    "3. The race/ethnicity representation has changed over the five years, with \"White or of European descent\" decreasing from 71% to 53%."
   ]
  },
  {
   "cell_type": "code",
   "execution_count": null,
   "id": "1764207d",
   "metadata": {},
   "outputs": [],
   "source": []
  }
 ],
 "metadata": {
  "kernelspec": {
   "display_name": "Python 3",
   "language": "python",
   "name": "python3"
  },
  "language_info": {
   "codemirror_mode": {
    "name": "ipython",
    "version": 3
   },
   "file_extension": ".py",
   "mimetype": "text/x-python",
   "name": "python",
   "nbconvert_exporter": "python",
   "pygments_lexer": "ipython3",
   "version": "3.9.5"
  }
 },
 "nbformat": 4,
 "nbformat_minor": 5
}
